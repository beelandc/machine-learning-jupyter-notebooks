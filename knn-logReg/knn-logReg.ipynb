{
 "cells": [
  {
   "cell_type": "code",
   "execution_count": 1,
   "metadata": {
    "collapsed": true
   },
   "outputs": [],
   "source": [
    "import pandas as pd\n",
    "import numpy as np\n",
    "import sklearn\n",
    "from sklearn.pipeline import Pipeline\n",
    "from sklearn.preprocessing import StandardScaler, Imputer\n",
    "from sklearn.neighbors import KNeighborsClassifier\n",
    "from sklearn.linear_model import LogisticRegression\n",
    "from sklearn.metrics import confusion_matrix, f1_score\n",
    "import matplotlib.pyplot as plt\n",
    "%matplotlib inline "
   ]
  },
  {
   "cell_type": "code",
   "execution_count": 2,
   "metadata": {
    "collapsed": true
   },
   "outputs": [],
   "source": [
    "df = pd.read_csv('dataset.csv')"
   ]
  },
  {
   "cell_type": "markdown",
   "metadata": {},
   "source": [
    " Drop first column as it is an index"
   ]
  },
  {
   "cell_type": "code",
   "execution_count": 3,
   "metadata": {
    "collapsed": true
   },
   "outputs": [],
   "source": [
    "df = df[['feature-0','feature-1','feature-2','feature-3','feature-4','y']]\n",
    "df_withOutliers = df"
   ]
  },
  {
   "cell_type": "markdown",
   "metadata": {},
   "source": [
    "Initial descriptive analysis of dataset"
   ]
  },
  {
   "cell_type": "code",
   "execution_count": 4,
   "metadata": {},
   "outputs": [
    {
     "data": {
      "text/html": [
       "<div>\n",
       "<style>\n",
       "    .dataframe thead tr:only-child th {\n",
       "        text-align: right;\n",
       "    }\n",
       "\n",
       "    .dataframe thead th {\n",
       "        text-align: left;\n",
       "    }\n",
       "\n",
       "    .dataframe tbody tr th {\n",
       "        vertical-align: top;\n",
       "    }\n",
       "</style>\n",
       "<table border=\"1\" class=\"dataframe\">\n",
       "  <thead>\n",
       "    <tr style=\"text-align: right;\">\n",
       "      <th></th>\n",
       "      <th>feature-0</th>\n",
       "      <th>feature-1</th>\n",
       "      <th>feature-2</th>\n",
       "      <th>feature-3</th>\n",
       "      <th>feature-4</th>\n",
       "      <th>y</th>\n",
       "    </tr>\n",
       "  </thead>\n",
       "  <tbody>\n",
       "    <tr>\n",
       "      <th>count</th>\n",
       "      <td>996.000000</td>\n",
       "      <td>996.000000</td>\n",
       "      <td>993.000000</td>\n",
       "      <td>996.000000</td>\n",
       "      <td>994.000000</td>\n",
       "      <td>1000.000000</td>\n",
       "    </tr>\n",
       "    <tr>\n",
       "      <th>mean</th>\n",
       "      <td>-0.566818</td>\n",
       "      <td>7.344365</td>\n",
       "      <td>0.978271</td>\n",
       "      <td>20.075027</td>\n",
       "      <td>9.685750</td>\n",
       "      <td>0.511000</td>\n",
       "    </tr>\n",
       "    <tr>\n",
       "      <th>std</th>\n",
       "      <td>71.121217</td>\n",
       "      <td>70.572299</td>\n",
       "      <td>55.022106</td>\n",
       "      <td>93.623887</td>\n",
       "      <td>63.033193</td>\n",
       "      <td>0.500129</td>\n",
       "    </tr>\n",
       "    <tr>\n",
       "      <th>min</th>\n",
       "      <td>-8.144376</td>\n",
       "      <td>-0.983165</td>\n",
       "      <td>-2.187062</td>\n",
       "      <td>9.834473</td>\n",
       "      <td>1.234882</td>\n",
       "      <td>0.000000</td>\n",
       "    </tr>\n",
       "    <tr>\n",
       "      <th>25%</th>\n",
       "      <td>-6.850499</td>\n",
       "      <td>0.597205</td>\n",
       "      <td>-2.117805</td>\n",
       "      <td>10.503616</td>\n",
       "      <td>3.575566</td>\n",
       "      <td>0.000000</td>\n",
       "    </tr>\n",
       "    <tr>\n",
       "      <th>50%</th>\n",
       "      <td>-5.542153</td>\n",
       "      <td>2.370609</td>\n",
       "      <td>-2.050506</td>\n",
       "      <td>11.191897</td>\n",
       "      <td>5.589747</td>\n",
       "      <td>1.000000</td>\n",
       "    </tr>\n",
       "    <tr>\n",
       "      <th>75%</th>\n",
       "      <td>-4.341888</td>\n",
       "      <td>4.031264</td>\n",
       "      <td>-1.979004</td>\n",
       "      <td>11.771228</td>\n",
       "      <td>7.881008</td>\n",
       "      <td>1.000000</td>\n",
       "    </tr>\n",
       "    <tr>\n",
       "      <th>max</th>\n",
       "      <td>1000.000000</td>\n",
       "      <td>1000.000000</td>\n",
       "      <td>1000.000000</td>\n",
       "      <td>1000.000000</td>\n",
       "      <td>1000.000000</td>\n",
       "      <td>1.000000</td>\n",
       "    </tr>\n",
       "  </tbody>\n",
       "</table>\n",
       "</div>"
      ],
      "text/plain": [
       "         feature-0    feature-1    feature-2    feature-3    feature-4  \\\n",
       "count   996.000000   996.000000   993.000000   996.000000   994.000000   \n",
       "mean     -0.566818     7.344365     0.978271    20.075027     9.685750   \n",
       "std      71.121217    70.572299    55.022106    93.623887    63.033193   \n",
       "min      -8.144376    -0.983165    -2.187062     9.834473     1.234882   \n",
       "25%      -6.850499     0.597205    -2.117805    10.503616     3.575566   \n",
       "50%      -5.542153     2.370609    -2.050506    11.191897     5.589747   \n",
       "75%      -4.341888     4.031264    -1.979004    11.771228     7.881008   \n",
       "max    1000.000000  1000.000000  1000.000000  1000.000000  1000.000000   \n",
       "\n",
       "                 y  \n",
       "count  1000.000000  \n",
       "mean      0.511000  \n",
       "std       0.500129  \n",
       "min       0.000000  \n",
       "25%       0.000000  \n",
       "50%       1.000000  \n",
       "75%       1.000000  \n",
       "max       1.000000  "
      ]
     },
     "execution_count": 4,
     "metadata": {},
     "output_type": "execute_result"
    }
   ],
   "source": [
    "df.describe()"
   ]
  },
  {
   "cell_type": "markdown",
   "metadata": {},
   "source": [
    "Plot a histogram of rows with values for feature-0"
   ]
  },
  {
   "cell_type": "code",
   "execution_count": 5,
   "metadata": {},
   "outputs": [
    {
     "data": {
      "text/plain": [
       "(array([ 991.,    0.,    0.,    0.,    0.,    0.,    0.,    0.,    0.,    5.]),\n",
       " array([   -8.14437557,    92.67006199,   193.48449954,   294.2989371 ,\n",
       "          395.11337466,   495.92781221,   596.74224977,   697.55668733,\n",
       "          798.37112489,   899.18556244,  1000.        ]),\n",
       " <a list of 10 Patch objects>)"
      ]
     },
     "execution_count": 5,
     "metadata": {},
     "output_type": "execute_result"
    },
    {
     "data": {
      "image/png": "[encoded data removed]",
      "text/plain": [
       "<matplotlib.figure.Figure at 0xed72048>"
      ]
     },
     "metadata": {},
     "output_type": "display_data"
    }
   ],
   "source": [
    "plt.hist(df['feature-0'][np.isfinite(df['feature-0'])])"
   ]
  },
  {
   "cell_type": "markdown",
   "metadata": {},
   "source": [
    "Remove row with outlier for `feature-0` - keep rows with null values"
   ]
  },
  {
   "cell_type": "code",
   "execution_count": 6,
   "metadata": {
    "collapsed": true
   },
   "outputs": [],
   "source": [
    "df = df[(df['feature-0'] < 1000) | df['feature-0'].isnull()]"
   ]
  },
  {
   "cell_type": "markdown",
   "metadata": {},
   "source": [
    "Re-run histogram of `feature-0`. Data looks evenly distributed"
   ]
  },
  {
   "cell_type": "code",
   "execution_count": 7,
   "metadata": {},
   "outputs": [
    {
     "data": {
      "text/plain": [
       "(array([  86.,  105.,   95.,   98.,   94.,  103.,  107.,   94.,  111.,   98.]),\n",
       " array([-8.14437557, -7.64740555, -7.15043553, -6.6534655 , -6.15649548,\n",
       "        -5.65952546, -5.16255543, -4.66558541, -4.16861539, -3.67164537,\n",
       "        -3.17467534]),\n",
       " <a list of 10 Patch objects>)"
      ]
     },
     "execution_count": 7,
     "metadata": {},
     "output_type": "execute_result"
    },
    {
     "data": {
      "image/png": "[encoded data removed]",
      "text/plain": [
       "<matplotlib.figure.Figure at 0xec6fb70>"
      ]
     },
     "metadata": {},
     "output_type": "display_data"
    }
   ],
   "source": [
    "plt.hist(df['feature-0'][np.isfinite(df['feature-0'])])"
   ]
  },
  {
   "cell_type": "markdown",
   "metadata": {},
   "source": [
    "Plot a histogram of rows with values for feature-1"
   ]
  },
  {
   "cell_type": "code",
   "execution_count": 8,
   "metadata": {},
   "outputs": [
    {
     "data": {
      "text/plain": [
       "(array([ 986.,    0.,    0.,    0.,    0.,    0.,    0.,    0.,    0.,    5.]),\n",
       " array([ -9.83164699e-01,   9.91151518e+01,   1.99213468e+02,\n",
       "          2.99311785e+02,   3.99410101e+02,   4.99508418e+02,\n",
       "          5.99606734e+02,   6.99705051e+02,   7.99803367e+02,\n",
       "          8.99901684e+02,   1.00000000e+03]),\n",
       " <a list of 10 Patch objects>)"
      ]
     },
     "execution_count": 8,
     "metadata": {},
     "output_type": "execute_result"
    },
    {
     "data": {
      "image/png": "[encoded data removed]",
      "text/plain": [
       "<matplotlib.figure.Figure at 0xeef6128>"
      ]
     },
     "metadata": {},
     "output_type": "display_data"
    }
   ],
   "source": [
    "plt.hist(df['feature-1'][np.isfinite(df['feature-1'])])"
   ]
  },
  {
   "cell_type": "markdown",
   "metadata": {},
   "source": [
    "Remove rows with outliers for `feature-1` - keep rows with null values"
   ]
  },
  {
   "cell_type": "code",
   "execution_count": 9,
   "metadata": {
    "collapsed": true
   },
   "outputs": [],
   "source": [
    "df = df[(df['feature-1'] < 1000) | df['feature-1'].isnull()]"
   ]
  },
  {
   "cell_type": "markdown",
   "metadata": {},
   "source": [
    "Re-run histogram of feature-1. Data looks evenly distributed"
   ]
  },
  {
   "cell_type": "code",
   "execution_count": 10,
   "metadata": {},
   "outputs": [
    {
     "data": {
      "text/plain": [
       "(array([ 107.,  102.,  117.,   78.,   93.,  106.,   89.,   97.,   92.,  105.]),\n",
       " array([-0.9831647, -0.3096885,  0.3637877,  1.0372639,  1.7107401,\n",
       "         2.3842163,  3.0576925,  3.7311687,  4.4046449,  5.0781211,\n",
       "         5.7515973]),\n",
       " <a list of 10 Patch objects>)"
      ]
     },
     "execution_count": 10,
     "metadata": {},
     "output_type": "execute_result"
    },
    {
     "data": {
      "image/png": "[encoded data removed]",
      "text/plain": [
       "<matplotlib.figure.Figure at 0xeffc438>"
      ]
     },
     "metadata": {},
     "output_type": "display_data"
    }
   ],
   "source": [
    "plt.hist(df['feature-1'][np.isfinite(df['feature-1'])])"
   ]
  },
  {
   "cell_type": "markdown",
   "metadata": {},
   "source": [
    "Plot a histogram of rows with values for feature-2"
   ]
  },
  {
   "cell_type": "code",
   "execution_count": 11,
   "metadata": {},
   "outputs": [
    {
     "data": {
      "text/plain": [
       "(array([ 980.,    0.,    0.,    0.,    0.,    0.,    0.,    0.,    0.,    3.]),\n",
       " array([   -2.18706158,    98.03164458,   198.25035073,   298.46905689,\n",
       "          398.68776305,   498.90646921,   599.12517537,   699.34388153,\n",
       "          799.56258768,   899.78129384,  1000.        ]),\n",
       " <a list of 10 Patch objects>)"
      ]
     },
     "execution_count": 11,
     "metadata": {},
     "output_type": "execute_result"
    },
    {
     "data": {
      "image/png": "[encoded data removed]",
      "text/plain": [
       "<matplotlib.figure.Figure at 0xf91a128>"
      ]
     },
     "metadata": {},
     "output_type": "display_data"
    }
   ],
   "source": [
    "plt.hist(df['feature-2'][np.isfinite(df['feature-2'])])"
   ]
  },
  {
   "cell_type": "markdown",
   "metadata": {},
   "source": [
    "Remove rows with outliers for feature-2 - keep rows with null values"
   ]
  },
  {
   "cell_type": "code",
   "execution_count": 12,
   "metadata": {
    "collapsed": true
   },
   "outputs": [],
   "source": [
    "df = df[(df['feature-2'] < 1000) | df['feature-2'].isnull()]"
   ]
  },
  {
   "cell_type": "markdown",
   "metadata": {},
   "source": [
    "Re-run histogram of feature-2. Data looks evenly distributed"
   ]
  },
  {
   "cell_type": "code",
   "execution_count": 13,
   "metadata": {},
   "outputs": [
    {
     "data": {
      "text/plain": [
       "(array([  94.,  110.,   90.,   96.,  115.,  100.,   98.,   95.,   79.,  103.]),\n",
       " array([-2.18706158, -2.15916605, -2.13127052, -2.10337498, -2.07547945,\n",
       "        -2.04758392, -2.01968838, -1.99179285, -1.96389732, -1.93600178,\n",
       "        -1.90810625]),\n",
       " <a list of 10 Patch objects>)"
      ]
     },
     "execution_count": 13,
     "metadata": {},
     "output_type": "execute_result"
    },
    {
     "data": {
      "image/png": "[encoded data removed]",
      "text/plain": [
       "<matplotlib.figure.Figure at 0xfbdef28>"
      ]
     },
     "metadata": {},
     "output_type": "display_data"
    }
   ],
   "source": [
    "plt.hist(df['feature-2'][np.isfinite(df['feature-2'])])"
   ]
  },
  {
   "cell_type": "markdown",
   "metadata": {},
   "source": [
    "Plot a histogram of rows with values for feature-3"
   ]
  },
  {
   "cell_type": "code",
   "execution_count": 14,
   "metadata": {},
   "outputs": [
    {
     "data": {
      "text/plain": [
       "(array([ 974.,    0.,    0.,    0.,    0.,    0.,    0.,    0.,    0.,    9.]),\n",
       " array([    9.83447288,   108.85102559,   207.86757831,   306.88413102,\n",
       "          405.90068373,   504.91723644,   603.93378915,   702.95034186,\n",
       "          801.96689458,   900.98344729,  1000.        ]),\n",
       " <a list of 10 Patch objects>)"
      ]
     },
     "execution_count": 14,
     "metadata": {},
     "output_type": "execute_result"
    },
    {
     "data": {
      "image/png": "[encoded data removed]",
      "text/plain": [
       "<matplotlib.figure.Figure at 0xfd48c18>"
      ]
     },
     "metadata": {},
     "output_type": "display_data"
    }
   ],
   "source": [
    "plt.hist(df['feature-3'][np.isfinite(df['feature-3'])])"
   ]
  },
  {
   "cell_type": "markdown",
   "metadata": {},
   "source": [
    "Remove rows with outliers for `feature-3` - keep rows with null values"
   ]
  },
  {
   "cell_type": "code",
   "execution_count": 15,
   "metadata": {
    "collapsed": true
   },
   "outputs": [],
   "source": [
    "df = df[(df['feature-3'] < 1000) | df['feature-3'].isnull()]"
   ]
  },
  {
   "cell_type": "markdown",
   "metadata": {},
   "source": [
    "Re-run histogram of feature-3. Data looks evenly distributed"
   ]
  },
  {
   "cell_type": "code",
   "execution_count": 16,
   "metadata": {},
   "outputs": [
    {
     "data": {
      "text/plain": [
       "(array([  90.,   90.,   92.,   89.,  104.,   87.,  102.,  117.,  105.,   98.]),\n",
       " array([  9.83447288,  10.08726442,  10.34005596,  10.5928475 ,\n",
       "         10.84563903,  11.09843057,  11.35122211,  11.60401365,\n",
       "         11.85680518,  12.10959672,  12.36238826]),\n",
       " <a list of 10 Patch objects>)"
      ]
     },
     "execution_count": 16,
     "metadata": {},
     "output_type": "execute_result"
    },
    {
     "data": {
      "image/png": "[encoded data removed]",
      "text/plain": [
       "<matplotlib.figure.Figure at 0x1000beb8>"
      ]
     },
     "metadata": {},
     "output_type": "display_data"
    }
   ],
   "source": [
    "plt.hist(df['feature-3'][np.isfinite(df['feature-3'])])"
   ]
  },
  {
   "cell_type": "markdown",
   "metadata": {},
   "source": [
    "Plot a histogram of rows with values for `feature-4`"
   ]
  },
  {
   "cell_type": "code",
   "execution_count": 17,
   "metadata": {},
   "outputs": [
    {
     "data": {
      "text/plain": [
       "(array([ 968.,    0.,    0.,    0.,    0.,    0.,    0.,    0.,    0.,    4.]),\n",
       " array([    1.23488197,   101.11139377,   200.98790558,   300.86441738,\n",
       "          400.74092918,   500.61744099,   600.49395279,   700.37046459,\n",
       "          800.24697639,   900.1234882 ,  1000.        ]),\n",
       " <a list of 10 Patch objects>)"
      ]
     },
     "execution_count": 17,
     "metadata": {},
     "output_type": "execute_result"
    },
    {
     "data": {
      "image/png": "[encoded data removed]",
      "text/plain": [
       "<matplotlib.figure.Figure at 0x10174dd8>"
      ]
     },
     "metadata": {},
     "output_type": "display_data"
    }
   ],
   "source": [
    "plt.hist(df['feature-4'][np.isfinite(df['feature-4'])])"
   ]
  },
  {
   "cell_type": "markdown",
   "metadata": {},
   "source": [
    "Remove rows with outliers for `feature-4` - keep records with null values"
   ]
  },
  {
   "cell_type": "code",
   "execution_count": 18,
   "metadata": {
    "collapsed": true
   },
   "outputs": [],
   "source": [
    "df = df[(df['feature-4'] < 1000) | df['feature-4'].isnull()]"
   ]
  },
  {
   "cell_type": "markdown",
   "metadata": {},
   "source": [
    "Re-run histogram of feature-4. Data looks evenly distributed"
   ]
  },
  {
   "cell_type": "code",
   "execution_count": 19,
   "metadata": {},
   "outputs": [
    {
     "data": {
      "text/plain": [
       "(array([ 100.,   80.,  109.,  113.,   93.,   87.,   99.,   85.,  104.,   98.]),\n",
       " array([  1.23488197,   2.13014516,   3.02540836,   3.92067155,\n",
       "          4.81593474,   5.71119794,   6.60646113,   7.50172432,\n",
       "          8.39698752,   9.29225071,  10.18751391]),\n",
       " <a list of 10 Patch objects>)"
      ]
     },
     "execution_count": 19,
     "metadata": {},
     "output_type": "execute_result"
    },
    {
     "data": {
      "image/png": "[encoded data removed]",
      "text/plain": [
       "<matplotlib.figure.Figure at 0x1000bda0>"
      ]
     },
     "metadata": {},
     "output_type": "display_data"
    }
   ],
   "source": [
    "plt.hist(df['feature-4'][np.isfinite(df['feature-4'])])"
   ]
  },
  {
   "cell_type": "markdown",
   "metadata": {},
   "source": [
    "Now that outliers are removed, run another descriptive analysis of dataset, including mean and standard deviation:"
   ]
  },
  {
   "cell_type": "code",
   "execution_count": 20,
   "metadata": {},
   "outputs": [
    {
     "data": {
      "text/html": [
       "<div>\n",
       "<style>\n",
       "    .dataframe thead tr:only-child th {\n",
       "        text-align: right;\n",
       "    }\n",
       "\n",
       "    .dataframe thead th {\n",
       "        text-align: left;\n",
       "    }\n",
       "\n",
       "    .dataframe tbody tr th {\n",
       "        vertical-align: top;\n",
       "    }\n",
       "</style>\n",
       "<table border=\"1\" class=\"dataframe\">\n",
       "  <thead>\n",
       "    <tr style=\"text-align: right;\">\n",
       "      <th></th>\n",
       "      <th>feature-0</th>\n",
       "      <th>feature-1</th>\n",
       "      <th>feature-2</th>\n",
       "      <th>feature-3</th>\n",
       "      <th>feature-4</th>\n",
       "      <th>y</th>\n",
       "    </tr>\n",
       "  </thead>\n",
       "  <tbody>\n",
       "    <tr>\n",
       "      <th>count</th>\n",
       "      <td>970.000000</td>\n",
       "      <td>970.000000</td>\n",
       "      <td>967.000000</td>\n",
       "      <td>970.000000</td>\n",
       "      <td>968.000000</td>\n",
       "      <td>974.000000</td>\n",
       "    </tr>\n",
       "    <tr>\n",
       "      <th>mean</th>\n",
       "      <td>-5.612823</td>\n",
       "      <td>2.342179</td>\n",
       "      <td>-2.049468</td>\n",
       "      <td>11.141586</td>\n",
       "      <td>5.701654</td>\n",
       "      <td>0.508214</td>\n",
       "    </tr>\n",
       "    <tr>\n",
       "      <th>std</th>\n",
       "      <td>1.424401</td>\n",
       "      <td>1.973795</td>\n",
       "      <td>0.079904</td>\n",
       "      <td>0.726196</td>\n",
       "      <td>2.586646</td>\n",
       "      <td>0.500189</td>\n",
       "    </tr>\n",
       "    <tr>\n",
       "      <th>min</th>\n",
       "      <td>-8.144376</td>\n",
       "      <td>-0.983165</td>\n",
       "      <td>-2.187062</td>\n",
       "      <td>9.834473</td>\n",
       "      <td>1.234882</td>\n",
       "      <td>0.000000</td>\n",
       "    </tr>\n",
       "    <tr>\n",
       "      <th>25%</th>\n",
       "      <td>-6.855434</td>\n",
       "      <td>0.616699</td>\n",
       "      <td>-2.118199</td>\n",
       "      <td>10.503131</td>\n",
       "      <td>3.577614</td>\n",
       "      <td>0.000000</td>\n",
       "    </tr>\n",
       "    <tr>\n",
       "      <th>50%</th>\n",
       "      <td>-5.562233</td>\n",
       "      <td>2.370609</td>\n",
       "      <td>-2.051678</td>\n",
       "      <td>11.167278</td>\n",
       "      <td>5.582865</td>\n",
       "      <td>1.000000</td>\n",
       "    </tr>\n",
       "    <tr>\n",
       "      <th>75%</th>\n",
       "      <td>-4.354419</td>\n",
       "      <td>4.011873</td>\n",
       "      <td>-1.979930</td>\n",
       "      <td>11.745840</td>\n",
       "      <td>7.875758</td>\n",
       "      <td>1.000000</td>\n",
       "    </tr>\n",
       "    <tr>\n",
       "      <th>max</th>\n",
       "      <td>-3.174675</td>\n",
       "      <td>5.751597</td>\n",
       "      <td>-1.908106</td>\n",
       "      <td>12.362388</td>\n",
       "      <td>10.187514</td>\n",
       "      <td>1.000000</td>\n",
       "    </tr>\n",
       "  </tbody>\n",
       "</table>\n",
       "</div>"
      ],
      "text/plain": [
       "        feature-0   feature-1   feature-2   feature-3   feature-4           y\n",
       "count  970.000000  970.000000  967.000000  970.000000  968.000000  974.000000\n",
       "mean    -5.612823    2.342179   -2.049468   11.141586    5.701654    0.508214\n",
       "std      1.424401    1.973795    0.079904    0.726196    2.586646    0.500189\n",
       "min     -8.144376   -0.983165   -2.187062    9.834473    1.234882    0.000000\n",
       "25%     -6.855434    0.616699   -2.118199   10.503131    3.577614    0.000000\n",
       "50%     -5.562233    2.370609   -2.051678   11.167278    5.582865    1.000000\n",
       "75%     -4.354419    4.011873   -1.979930   11.745840    7.875758    1.000000\n",
       "max     -3.174675    5.751597   -1.908106   12.362388   10.187514    1.000000"
      ]
     },
     "execution_count": 20,
     "metadata": {},
     "output_type": "execute_result"
    }
   ],
   "source": [
    "df.describe()"
   ]
  },
  {
   "cell_type": "markdown",
   "metadata": {},
   "source": [
    "Table of correlations between the features in the dataset:"
   ]
  },
  {
   "cell_type": "code",
   "execution_count": 21,
   "metadata": {},
   "outputs": [
    {
     "data": {
      "text/html": [
       "<div>\n",
       "<style>\n",
       "    .dataframe thead tr:only-child th {\n",
       "        text-align: right;\n",
       "    }\n",
       "\n",
       "    .dataframe thead th {\n",
       "        text-align: left;\n",
       "    }\n",
       "\n",
       "    .dataframe tbody tr th {\n",
       "        vertical-align: top;\n",
       "    }\n",
       "</style>\n",
       "<table border=\"1\" class=\"dataframe\">\n",
       "  <thead>\n",
       "    <tr style=\"text-align: right;\">\n",
       "      <th></th>\n",
       "      <th>feature-0</th>\n",
       "      <th>feature-1</th>\n",
       "      <th>feature-2</th>\n",
       "      <th>feature-3</th>\n",
       "      <th>feature-4</th>\n",
       "    </tr>\n",
       "  </thead>\n",
       "  <tbody>\n",
       "    <tr>\n",
       "      <th>feature-0</th>\n",
       "      <td>1.000000</td>\n",
       "      <td>0.014904</td>\n",
       "      <td>0.007655</td>\n",
       "      <td>0.043939</td>\n",
       "      <td>0.040999</td>\n",
       "    </tr>\n",
       "    <tr>\n",
       "      <th>feature-1</th>\n",
       "      <td>0.014904</td>\n",
       "      <td>1.000000</td>\n",
       "      <td>0.010076</td>\n",
       "      <td>0.009714</td>\n",
       "      <td>-0.013545</td>\n",
       "    </tr>\n",
       "    <tr>\n",
       "      <th>feature-2</th>\n",
       "      <td>0.007655</td>\n",
       "      <td>0.010076</td>\n",
       "      <td>1.000000</td>\n",
       "      <td>0.019842</td>\n",
       "      <td>-0.061590</td>\n",
       "    </tr>\n",
       "    <tr>\n",
       "      <th>feature-3</th>\n",
       "      <td>0.043939</td>\n",
       "      <td>0.009714</td>\n",
       "      <td>0.019842</td>\n",
       "      <td>1.000000</td>\n",
       "      <td>0.011401</td>\n",
       "    </tr>\n",
       "    <tr>\n",
       "      <th>feature-4</th>\n",
       "      <td>0.040999</td>\n",
       "      <td>-0.013545</td>\n",
       "      <td>-0.061590</td>\n",
       "      <td>0.011401</td>\n",
       "      <td>1.000000</td>\n",
       "    </tr>\n",
       "  </tbody>\n",
       "</table>\n",
       "</div>"
      ],
      "text/plain": [
       "           feature-0  feature-1  feature-2  feature-3  feature-4\n",
       "feature-0   1.000000   0.014904   0.007655   0.043939   0.040999\n",
       "feature-1   0.014904   1.000000   0.010076   0.009714  -0.013545\n",
       "feature-2   0.007655   0.010076   1.000000   0.019842  -0.061590\n",
       "feature-3   0.043939   0.009714   0.019842   1.000000   0.011401\n",
       "feature-4   0.040999  -0.013545  -0.061590   0.011401   1.000000"
      ]
     },
     "execution_count": 21,
     "metadata": {},
     "output_type": "execute_result"
    }
   ],
   "source": [
    "df[['feature-0','feature-1','feature-2','feature-3','feature-4']].corr()"
   ]
  },
  {
   "cell_type": "markdown",
   "metadata": {},
   "source": [
    "Since correlation values range from -1 to 1, with -1 representing a strong negative correlation, 1 representing a strong positive correlation, and 0 representing no correlation, the fact that most of these correlation values are < 0.1 away from 0 indicates that the correlations between the features in the dataset are small (or weak). This implies that the values of the features are relatively independent from each other."
   ]
  },
  {
   "cell_type": "markdown",
   "metadata": {},
   "source": [
    "Shuffle dataset, then split dataset into training and testing sets (~50% each):"
   ]
  },
  {
   "cell_type": "code",
   "execution_count": 22,
   "metadata": {},
   "outputs": [
    {
     "name": "stdout",
     "output_type": "stream",
     "text": [
      "490 484\n"
     ]
    }
   ],
   "source": [
    "df = df.sample(frac=1)\n",
    "\n",
    "df_train, df_test = df.iloc[:490], df.iloc[490:]\n",
    "print len(df_train), len(df_test)\n",
    "\n",
    "X_train, y_train = df_train[df_train.columns.drop('y')], df_train['y']\n",
    "X_test, y_test = df_test[df_test.columns.drop('y')], df_test['y']"
   ]
  },
  {
   "cell_type": "markdown",
   "metadata": {},
   "source": [
    "Build a pipeline to process the dataset, build a model, and predict values:"
   ]
  },
  {
   "cell_type": "code",
   "execution_count": 23,
   "metadata": {
    "collapsed": true
   },
   "outputs": [],
   "source": [
    "knn_pipeline = Pipeline([\n",
    "    ('my_imputer', Imputer()),\n",
    "    ('my_std_scaler', StandardScaler()),\n",
    "    ('masteralg', KNeighborsClassifier())    \n",
    "])"
   ]
  },
  {
   "cell_type": "markdown",
   "metadata": {},
   "source": [
    "Process dataset (imputing missing values and normalizing features), then run KNeighborsClassifier fit/predict"
   ]
  },
  {
   "cell_type": "code",
   "execution_count": 24,
   "metadata": {
    "collapsed": true
   },
   "outputs": [],
   "source": [
    "knn_pipeline.fit(X_train, y_train)\n",
    "y_pred = knn_pipeline.predict(X_test)"
   ]
  },
  {
   "cell_type": "markdown",
   "metadata": {},
   "source": [
    "Print Confusion Matrix for predicted Y values:"
   ]
  },
  {
   "cell_type": "code",
   "execution_count": 25,
   "metadata": {},
   "outputs": [
    {
     "data": {
      "text/plain": [
       "array([[219,  25],\n",
       "       [ 24, 216]], dtype=int64)"
      ]
     },
     "execution_count": 25,
     "metadata": {},
     "output_type": "execute_result"
    }
   ],
   "source": [
    "sklearn.metrics.confusion_matrix(y_test, y_pred)"
   ]
  },
  {
   "cell_type": "markdown",
   "metadata": {},
   "source": [
    "Exract true negative (tn), false positive (fp), false negative (fn), and true positive (tp) counts"
   ]
  },
  {
   "cell_type": "code",
   "execution_count": 26,
   "metadata": {
    "collapsed": true
   },
   "outputs": [],
   "source": [
    "tn, fp, fn, tp = sklearn.metrics.confusion_matrix(y_test, y_pred).ravel()"
   ]
  },
  {
   "cell_type": "markdown",
   "metadata": {},
   "source": [
    "Calculate additional metrics based on confusion matrix"
   ]
  },
  {
   "cell_type": "code",
   "execution_count": 27,
   "metadata": {
    "collapsed": true
   },
   "outputs": [],
   "source": [
    "num_predicted_correctly = tn + tp\n",
    "tpr = float(tp)/(tp+fn) # precision / true positive rate\n",
    "tnr = float(tn)/(tn+fp) # true negative rate\n",
    "ppv = float(tp)/(tp+fp) # recall / positive predictive value\n",
    "npv = float(tn)/(tn+fn) # negative predictive value"
   ]
  },
  {
   "cell_type": "code",
   "execution_count": 28,
   "metadata": {},
   "outputs": [],
   "source": [
    "# f1 = 2.0/(1.0/ppv+1.0/tpr)\n",
    "f1 = sklearn.metrics.f1_score(y_test, y_pred)"
   ]
  },
  {
   "cell_type": "markdown",
   "metadata": {},
   "source": [
    "Create a simple dataframe to hold and display metrics, then load the metrics for this execution"
   ]
  },
  {
   "cell_type": "code",
   "execution_count": 29,
   "metadata": {},
   "outputs": [
    {
     "data": {
      "text/html": [
       "<div>\n",
       "<style>\n",
       "    .dataframe thead tr:only-child th {\n",
       "        text-align: right;\n",
       "    }\n",
       "\n",
       "    .dataframe thead th {\n",
       "        text-align: left;\n",
       "    }\n",
       "\n",
       "    .dataframe tbody tr th {\n",
       "        vertical-align: top;\n",
       "    }\n",
       "</style>\n",
       "<table border=\"1\" class=\"dataframe\">\n",
       "  <thead>\n",
       "    <tr style=\"text-align: right;\">\n",
       "      <th></th>\n",
       "      <th>Technique</th>\n",
       "      <th>% Predicted Correctly</th>\n",
       "      <th>% of True Positives</th>\n",
       "      <th>% of True Negatives</th>\n",
       "      <th>% of False Positives</th>\n",
       "      <th>% of False Negatives</th>\n",
       "      <th>F1 Score</th>\n",
       "    </tr>\n",
       "  </thead>\n",
       "  <tbody>\n",
       "    <tr>\n",
       "      <th>0</th>\n",
       "      <td>KNN - Outliers Removed</td>\n",
       "      <td>435</td>\n",
       "      <td>216</td>\n",
       "      <td>219</td>\n",
       "      <td>25</td>\n",
       "      <td>24</td>\n",
       "      <td>0.898129</td>\n",
       "    </tr>\n",
       "    <tr>\n",
       "      <th>1</th>\n",
       "      <td>NaN</td>\n",
       "      <td>NaN</td>\n",
       "      <td>NaN</td>\n",
       "      <td>NaN</td>\n",
       "      <td>NaN</td>\n",
       "      <td>NaN</td>\n",
       "      <td>NaN</td>\n",
       "    </tr>\n",
       "    <tr>\n",
       "      <th>2</th>\n",
       "      <td>NaN</td>\n",
       "      <td>NaN</td>\n",
       "      <td>NaN</td>\n",
       "      <td>NaN</td>\n",
       "      <td>NaN</td>\n",
       "      <td>NaN</td>\n",
       "      <td>NaN</td>\n",
       "    </tr>\n",
       "  </tbody>\n",
       "</table>\n",
       "</div>"
      ],
      "text/plain": [
       "                Technique % Predicted Correctly % of True Positives  \\\n",
       "0  KNN - Outliers Removed                   435                 216   \n",
       "1                     NaN                   NaN                 NaN   \n",
       "2                     NaN                   NaN                 NaN   \n",
       "\n",
       "  % of True Negatives % of False Positives % of False Negatives  F1 Score  \n",
       "0                 219                   25                   24  0.898129  \n",
       "1                 NaN                  NaN                  NaN       NaN  \n",
       "2                 NaN                  NaN                  NaN       NaN  "
      ]
     },
     "execution_count": 29,
     "metadata": {},
     "output_type": "execute_result"
    }
   ],
   "source": [
    "metrics_df = pd.DataFrame(index=np.arange(0, 3), columns=['Technique', '% Predicted Correctly', '% of True Positives', '% of True Negatives', '% of False Positives', '% of False Negatives' , 'F1 Score'])\n",
    "metrics_df.loc[0] = ['KNN - Outliers Removed', num_predicted_correctly, tp, tn, fp, fn, f1]\n",
    "metrics_df"
   ]
  },
  {
   "cell_type": "markdown",
   "metadata": {},
   "source": [
    "Prepare the datasets for predicting using logistic regression"
   ]
  },
  {
   "cell_type": "code",
   "execution_count": 30,
   "metadata": {
    "collapsed": true
   },
   "outputs": [],
   "source": [
    "df = df.sample(frac=1)\n",
    "df_train, df_test = df.iloc[:490], df.iloc[490:]\n",
    "\n",
    "X_train, y_train = df_train[df_train.columns.drop('y')], df_train['y']\n",
    "X_test, y_test = df_test[df_test.columns.drop('y')], df_test['y']"
   ]
  },
  {
   "cell_type": "markdown",
   "metadata": {},
   "source": [
    "Build a pipeline to process the dataset, build a model, and predict values using LogisticRegression:"
   ]
  },
  {
   "cell_type": "code",
   "execution_count": 31,
   "metadata": {
    "collapsed": true
   },
   "outputs": [],
   "source": [
    "logistic_regression_pipeline = Pipeline([\n",
    "    ('my_imputer', Imputer()),\n",
    "    ('my_std_scaler', StandardScaler()),\n",
    "    ('masteralg', LogisticRegression())    \n",
    "])"
   ]
  },
  {
   "cell_type": "markdown",
   "metadata": {},
   "source": [
    "Process dataset (imputing missing values and normalizing features), then run LogisticRegression fit/predict"
   ]
  },
  {
   "cell_type": "code",
   "execution_count": 32,
   "metadata": {
    "collapsed": true
   },
   "outputs": [],
   "source": [
    "logistic_regression_pipeline.fit(X_train, y_train)\n",
    "y_pred = logistic_regression_pipeline.predict(X_test)"
   ]
  },
  {
   "cell_type": "markdown",
   "metadata": {},
   "source": [
    "Print Confusion Matrix for predicted Y values:"
   ]
  },
  {
   "cell_type": "code",
   "execution_count": 33,
   "metadata": {},
   "outputs": [
    {
     "data": {
      "text/plain": [
       "array([[244,   3],\n",
       "       [  4, 233]], dtype=int64)"
      ]
     },
     "execution_count": 33,
     "metadata": {},
     "output_type": "execute_result"
    }
   ],
   "source": [
    "sklearn.metrics.confusion_matrix(y_test, y_pred)"
   ]
  },
  {
   "cell_type": "markdown",
   "metadata": {},
   "source": [
    "Exract true negative (tn), false positive (fp), false negative (fn), and true positive (tp) counts"
   ]
  },
  {
   "cell_type": "code",
   "execution_count": 34,
   "metadata": {
    "collapsed": true
   },
   "outputs": [],
   "source": [
    "tn, fp, fn, tp = sklearn.metrics.confusion_matrix(y_test, y_pred).ravel()"
   ]
  },
  {
   "cell_type": "markdown",
   "metadata": {},
   "source": [
    "Calculate additional metrics from confusion matrix"
   ]
  },
  {
   "cell_type": "code",
   "execution_count": 35,
   "metadata": {
    "collapsed": true
   },
   "outputs": [],
   "source": [
    "num_predicted_correctly = tn + tp\n",
    "tpr = float(tp)/(tp+fn) # precision / true positive rate\n",
    "tnr = float(tn)/(tn+fp) # true negative rate\n",
    "ppv = float(tp)/(tp+fp) # recall / positive predictive value\n",
    "npv = float(tn)/(tn+fn) # negative predictive value"
   ]
  },
  {
   "cell_type": "code",
   "execution_count": 36,
   "metadata": {},
   "outputs": [],
   "source": [
    "# f1 = 2.0/(1.0/ppv+1.0/tpr)\n",
    "f1 = sklearn.metrics.f1_score(y_test, y_pred)"
   ]
  },
  {
   "cell_type": "markdown",
   "metadata": {},
   "source": [
    "Load the metrics from this execution into the metrics dataframe"
   ]
  },
  {
   "cell_type": "code",
   "execution_count": 37,
   "metadata": {},
   "outputs": [
    {
     "data": {
      "text/html": [
       "<div>\n",
       "<style>\n",
       "    .dataframe thead tr:only-child th {\n",
       "        text-align: right;\n",
       "    }\n",
       "\n",
       "    .dataframe thead th {\n",
       "        text-align: left;\n",
       "    }\n",
       "\n",
       "    .dataframe tbody tr th {\n",
       "        vertical-align: top;\n",
       "    }\n",
       "</style>\n",
       "<table border=\"1\" class=\"dataframe\">\n",
       "  <thead>\n",
       "    <tr style=\"text-align: right;\">\n",
       "      <th></th>\n",
       "      <th>Technique</th>\n",
       "      <th>% Predicted Correctly</th>\n",
       "      <th>% of True Positives</th>\n",
       "      <th>% of True Negatives</th>\n",
       "      <th>% of False Positives</th>\n",
       "      <th>% of False Negatives</th>\n",
       "      <th>F1 Score</th>\n",
       "    </tr>\n",
       "  </thead>\n",
       "  <tbody>\n",
       "    <tr>\n",
       "      <th>0</th>\n",
       "      <td>KNN - Outliers Removed</td>\n",
       "      <td>435</td>\n",
       "      <td>216</td>\n",
       "      <td>219</td>\n",
       "      <td>25</td>\n",
       "      <td>24</td>\n",
       "      <td>0.898129</td>\n",
       "    </tr>\n",
       "    <tr>\n",
       "      <th>1</th>\n",
       "      <td>Logistic Regression - Outliers Removed</td>\n",
       "      <td>477</td>\n",
       "      <td>233</td>\n",
       "      <td>244</td>\n",
       "      <td>3</td>\n",
       "      <td>4</td>\n",
       "      <td>0.985201</td>\n",
       "    </tr>\n",
       "    <tr>\n",
       "      <th>2</th>\n",
       "      <td>NaN</td>\n",
       "      <td>NaN</td>\n",
       "      <td>NaN</td>\n",
       "      <td>NaN</td>\n",
       "      <td>NaN</td>\n",
       "      <td>NaN</td>\n",
       "      <td>NaN</td>\n",
       "    </tr>\n",
       "  </tbody>\n",
       "</table>\n",
       "</div>"
      ],
      "text/plain": [
       "                                Technique % Predicted Correctly  \\\n",
       "0                  KNN - Outliers Removed                   435   \n",
       "1  Logistic Regression - Outliers Removed                   477   \n",
       "2                                     NaN                   NaN   \n",
       "\n",
       "  % of True Positives % of True Negatives % of False Positives  \\\n",
       "0                 216                 219                   25   \n",
       "1                 233                 244                    3   \n",
       "2                 NaN                 NaN                  NaN   \n",
       "\n",
       "  % of False Negatives  F1 Score  \n",
       "0                   24  0.898129  \n",
       "1                    4  0.985201  \n",
       "2                  NaN       NaN  "
      ]
     },
     "execution_count": 37,
     "metadata": {},
     "output_type": "execute_result"
    }
   ],
   "source": [
    "metrics_df.loc[1] = ['Logistic Regression - Outliers Removed', num_predicted_correctly, tp, tn, fp, fn, f1]\n",
    "metrics_df"
   ]
  },
  {
   "cell_type": "markdown",
   "metadata": {},
   "source": [
    "Prepare the outlier datasets for predicting using logistic regression"
   ]
  },
  {
   "cell_type": "code",
   "execution_count": 38,
   "metadata": {
    "collapsed": true
   },
   "outputs": [],
   "source": [
    "df_withOutliers = df_withOutliers.sample(frac=1)\n",
    "df_train, df_test = df_withOutliers.iloc[:490], df_withOutliers.iloc[490:]\n",
    "\n",
    "X_train, y_train = df_train[df_train.columns.drop('y')], df_train['y']\n",
    "X_test, y_test = df_test[df_test.columns.drop('y')], df_test['y']"
   ]
  },
  {
   "cell_type": "markdown",
   "metadata": {},
   "source": [
    "Process dataset (imputing missing values and normalizing features), then run LogisticRegression fit/predict"
   ]
  },
  {
   "cell_type": "code",
   "execution_count": 39,
   "metadata": {
    "collapsed": true
   },
   "outputs": [],
   "source": [
    "logistic_regression_pipeline.fit(X_train, y_train)\n",
    "y_pred = logistic_regression_pipeline.predict(X_test)"
   ]
  },
  {
   "cell_type": "markdown",
   "metadata": {},
   "source": [
    "Print Confusion Matrix for predicted Y values:"
   ]
  },
  {
   "cell_type": "code",
   "execution_count": 40,
   "metadata": {},
   "outputs": [
    {
     "data": {
      "text/plain": [
       "array([[174,  72],\n",
       "       [ 76, 188]], dtype=int64)"
      ]
     },
     "execution_count": 40,
     "metadata": {},
     "output_type": "execute_result"
    }
   ],
   "source": [
    "sklearn.metrics.confusion_matrix(y_test, y_pred)"
   ]
  },
  {
   "cell_type": "markdown",
   "metadata": {},
   "source": [
    "Exract true negative (tn), false positive (fp), false negative (fn), and true positive (tp) counts"
   ]
  },
  {
   "cell_type": "code",
   "execution_count": 41,
   "metadata": {
    "collapsed": true
   },
   "outputs": [],
   "source": [
    "tn, fp, fn, tp = sklearn.metrics.confusion_matrix(y_test, y_pred).ravel()"
   ]
  },
  {
   "cell_type": "markdown",
   "metadata": {},
   "source": [
    "Calculate additional metrics from confusion matrix"
   ]
  },
  {
   "cell_type": "code",
   "execution_count": 42,
   "metadata": {
    "collapsed": true
   },
   "outputs": [],
   "source": [
    "num_predicted_correctly = tn + tp\n",
    "tpr = float(tp)/(tp+fn) # precision / true positive rate\n",
    "tnr = float(tn)/(tn+fp) # true negative rate\n",
    "ppv = float(tp)/(tp+fp) # recall / positive predictive value\n",
    "npv = float(tn)/(tn+fn) # negative predictive value"
   ]
  },
  {
   "cell_type": "code",
   "execution_count": 43,
   "metadata": {},
   "outputs": [],
   "source": [
    "# f1 = 2.0/(1.0/ppv+1.0/tpr)\n",
    "f1 = sklearn.metrics.f1_score(y_test, y_pred)"
   ]
  },
  {
   "cell_type": "markdown",
   "metadata": {},
   "source": [
    "Load the metrics from this execution into the metrics dataframe"
   ]
  },
  {
   "cell_type": "code",
   "execution_count": 44,
   "metadata": {},
   "outputs": [
    {
     "data": {
      "text/html": [
       "<div>\n",
       "<style>\n",
       "    .dataframe thead tr:only-child th {\n",
       "        text-align: right;\n",
       "    }\n",
       "\n",
       "    .dataframe thead th {\n",
       "        text-align: left;\n",
       "    }\n",
       "\n",
       "    .dataframe tbody tr th {\n",
       "        vertical-align: top;\n",
       "    }\n",
       "</style>\n",
       "<table border=\"1\" class=\"dataframe\">\n",
       "  <thead>\n",
       "    <tr style=\"text-align: right;\">\n",
       "      <th></th>\n",
       "      <th>Technique</th>\n",
       "      <th>% Predicted Correctly</th>\n",
       "      <th>% of True Positives</th>\n",
       "      <th>% of True Negatives</th>\n",
       "      <th>% of False Positives</th>\n",
       "      <th>% of False Negatives</th>\n",
       "      <th>F1 Score</th>\n",
       "    </tr>\n",
       "  </thead>\n",
       "  <tbody>\n",
       "    <tr>\n",
       "      <th>0</th>\n",
       "      <td>KNN - Outliers Removed</td>\n",
       "      <td>435</td>\n",
       "      <td>216</td>\n",
       "      <td>219</td>\n",
       "      <td>25</td>\n",
       "      <td>24</td>\n",
       "      <td>0.898129</td>\n",
       "    </tr>\n",
       "    <tr>\n",
       "      <th>1</th>\n",
       "      <td>Logistic Regression - Outliers Removed</td>\n",
       "      <td>477</td>\n",
       "      <td>233</td>\n",
       "      <td>244</td>\n",
       "      <td>3</td>\n",
       "      <td>4</td>\n",
       "      <td>0.985201</td>\n",
       "    </tr>\n",
       "    <tr>\n",
       "      <th>2</th>\n",
       "      <td>Logistic Regression - Outliers Included</td>\n",
       "      <td>362</td>\n",
       "      <td>188</td>\n",
       "      <td>174</td>\n",
       "      <td>72</td>\n",
       "      <td>76</td>\n",
       "      <td>0.717557</td>\n",
       "    </tr>\n",
       "  </tbody>\n",
       "</table>\n",
       "</div>"
      ],
      "text/plain": [
       "                                 Technique % Predicted Correctly  \\\n",
       "0                   KNN - Outliers Removed                   435   \n",
       "1   Logistic Regression - Outliers Removed                   477   \n",
       "2  Logistic Regression - Outliers Included                   362   \n",
       "\n",
       "  % of True Positives % of True Negatives % of False Positives  \\\n",
       "0                 216                 219                   25   \n",
       "1                 233                 244                    3   \n",
       "2                 188                 174                   72   \n",
       "\n",
       "  % of False Negatives  F1 Score  \n",
       "0                   24  0.898129  \n",
       "1                    4  0.985201  \n",
       "2                   76  0.717557  "
      ]
     },
     "execution_count": 44,
     "metadata": {},
     "output_type": "execute_result"
    }
   ],
   "source": [
    "metrics_df.loc[2] = ['Logistic Regression - Outliers Included', num_predicted_correctly, tp, tn, fp, fn, f1]\n",
    "metrics_df"
   ]
  },
  {
   "cell_type": "markdown",
   "metadata": {
    "collapsed": true
   },
   "source": [
    "According to the table above, the accuracy of the predicted y-values is improved with outliers removed. This is because the outliers affect the observed correlation between the features in the dataset, distorting the resulting model, and in turn affecting the results of the classification algorithms. Thus, by removing outliers from the dataset prior to predicting values, we can improve the accuracy of the predictions"
   ]
  },
  {
   "cell_type": "code",
   "execution_count": null,
   "metadata": {
    "collapsed": true
   },
   "outputs": [],
   "source": []
  }
 ],
 "metadata": {
  "kernelspec": {
   "display_name": "Python 2",
   "language": "python",
   "name": "python2"
  },
  "language_info": {
   "codemirror_mode": {
    "name": "ipython",
    "version": 2
   },
   "file_extension": ".py",
   "mimetype": "text/x-python",
   "name": "python",
   "nbconvert_exporter": "python",
   "pygments_lexer": "ipython2",
   "version": "2.7.14"
  }
 },
 "nbformat": 4,
 "nbformat_minor": 2
}
