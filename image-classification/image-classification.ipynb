{
 "cells": [
  {
   "cell_type": "code",
   "execution_count": 1,
   "metadata": {
    "collapsed": true
   },
   "outputs": [],
   "source": [
    "import pandas as pd\n",
    "import numpy as np\n",
    "import sklearn\n",
    "from sklearn.pipeline import Pipeline\n",
    "from sklearn.preprocessing import StandardScaler, Imputer\n",
    "from sklearn.neighbors import KNeighborsClassifier\n",
    "from sklearn.linear_model import LogisticRegression, LinearRegression\n",
    "from sklearn.neighbors import KNeighborsRegressor\n",
    "from sklearn.metrics import confusion_matrix\n",
    "from sklearn.metrics import mean_squared_error\n",
    "import matplotlib\n",
    "import matplotlib.pylab as plt\n",
    "%matplotlib inline\n",
    "\n",
    "from sklearn.datasets import load_digits"
   ]
  },
  {
   "cell_type": "markdown",
   "metadata": {},
   "source": [
    "Load Dataset and convert data to pandas dataframe"
   ]
  },
  {
   "cell_type": "code",
   "execution_count": 2,
   "metadata": {
    "collapsed": true
   },
   "outputs": [],
   "source": [
    "d = load_digits()\n",
    "df = pd.DataFrame(data = d.data)\n",
    "df['digit'] = d.target"
   ]
  },
  {
   "cell_type": "markdown",
   "metadata": {},
   "source": [
    "Shuffle dataset"
   ]
  },
  {
   "cell_type": "code",
   "execution_count": 3,
   "metadata": {
    "collapsed": true
   },
   "outputs": [],
   "source": [
    "df = df.sample(frac=1)"
   ]
  },
  {
   "cell_type": "markdown",
   "metadata": {},
   "source": [
    "Copy dataframe for classification using binary pixel values"
   ]
  },
  {
   "cell_type": "code",
   "execution_count": 4,
   "metadata": {},
   "outputs": [],
   "source": [
    "df_binary = df.copy()"
   ]
  },
  {
   "cell_type": "markdown",
   "metadata": {},
   "source": [
    "Define simple function to map to dataframe values and convert df_binary features to 1 or 0"
   ]
  },
  {
   "cell_type": "code",
   "execution_count": 5,
   "metadata": {
    "collapsed": true
   },
   "outputs": [],
   "source": [
    "def convertToBinarySignal(x):\n",
    "    if(x > 0):\n",
    "        return 1\n",
    "    else:\n",
    "        return 0"
   ]
  },
  {
   "cell_type": "code",
   "execution_count": 6,
   "metadata": {},
   "outputs": [],
   "source": [
    "df_binary[df_binary.columns.difference(['digit'])] = df_binary[df_binary.columns.difference(['digit'])].applymap(convertToBinarySignal)"
   ]
  },
  {
   "cell_type": "markdown",
   "metadata": {},
   "source": [
    "Generate a function that will run prediction algorithm to predict each digit"
   ]
  },
  {
   "cell_type": "code",
   "execution_count": 7,
   "metadata": {},
   "outputs": [],
   "source": [
    "def digit_prediction(prediction_algo, digits, digit_number):\n",
    "    \n",
    "    # Generate target label\n",
    "    digits['y'] = digits['digit'] == digit_number\n",
    "    \n",
    "    # Split dataset into train/test (~50/50)\n",
    "    n = int(len(digits)/2)\n",
    "    df_train, df_test = digits.iloc[:n].copy(), digits.iloc[n:].copy()\n",
    "    X_train, y_train = df_train[df_train.columns.drop('y')], df_train['y']\n",
    "    X_test, y_test = df_test[df_test.columns.drop('y')], df_test['y']\n",
    "    \n",
    "    # Build Pipeline\n",
    "    pipeline = Pipeline([\n",
    "        ('masteralg', prediction_algo)    \n",
    "    ])\n",
    "    \n",
    "    # Fit / Predict\n",
    "    pipeline.fit(X_train, y_train)\n",
    "    y_pred = pipeline.predict(X_test)\n",
    "    \n",
    "    # Generate and return F1 metric with associated digit_number\n",
    "    return [sklearn.metrics.f1_score(y_test, y_pred), sklearn.metrics.precision_score(y_test, y_pred), sklearn.metrics.recall_score(y_test, y_pred), digit_number]"
   ]
  },
  {
   "cell_type": "markdown",
   "metadata": {},
   "source": [
    "Create a simple dataframe to hold and display metrics, then load the metrics from KNN and Logistic Regression predictions using binary pixel values"
   ]
  },
  {
   "cell_type": "code",
   "execution_count": 8,
   "metadata": {},
   "outputs": [
    {
     "data": {
      "text/html": [
       "<div>\n",
       "<style>\n",
       "    .dataframe thead tr:only-child th {\n",
       "        text-align: right;\n",
       "    }\n",
       "\n",
       "    .dataframe thead th {\n",
       "        text-align: left;\n",
       "    }\n",
       "\n",
       "    .dataframe tbody tr th {\n",
       "        vertical-align: top;\n",
       "    }\n",
       "</style>\n",
       "<table border=\"1\" class=\"dataframe\">\n",
       "  <thead>\n",
       "    <tr style=\"text-align: right;\">\n",
       "      <th></th>\n",
       "      <th>Technique</th>\n",
       "      <th>Worst Performing Digit</th>\n",
       "      <th>F1 Score of Digit Prediction</th>\n",
       "    </tr>\n",
       "  </thead>\n",
       "  <tbody>\n",
       "    <tr>\n",
       "      <th>0</th>\n",
       "      <td>KNN - Binary Pixel Values</td>\n",
       "      <td>8</td>\n",
       "      <td>0.96875</td>\n",
       "    </tr>\n",
       "    <tr>\n",
       "      <th>1</th>\n",
       "      <td>Logistic Regression - Binary Pixel Values</td>\n",
       "      <td>3</td>\n",
       "      <td>0.88764</td>\n",
       "    </tr>\n",
       "    <tr>\n",
       "      <th>2</th>\n",
       "      <td>NaN</td>\n",
       "      <td>NaN</td>\n",
       "      <td>NaN</td>\n",
       "    </tr>\n",
       "    <tr>\n",
       "      <th>3</th>\n",
       "      <td>NaN</td>\n",
       "      <td>NaN</td>\n",
       "      <td>NaN</td>\n",
       "    </tr>\n",
       "    <tr>\n",
       "      <th>4</th>\n",
       "      <td>NaN</td>\n",
       "      <td>NaN</td>\n",
       "      <td>NaN</td>\n",
       "    </tr>\n",
       "    <tr>\n",
       "      <th>5</th>\n",
       "      <td>NaN</td>\n",
       "      <td>NaN</td>\n",
       "      <td>NaN</td>\n",
       "    </tr>\n",
       "  </tbody>\n",
       "</table>\n",
       "</div>"
      ],
      "text/plain": [
       "                                   Technique Worst Performing Digit  \\\n",
       "0                  KNN - Binary Pixel Values                      8   \n",
       "1  Logistic Regression - Binary Pixel Values                      3   \n",
       "2                                        NaN                    NaN   \n",
       "3                                        NaN                    NaN   \n",
       "4                                        NaN                    NaN   \n",
       "5                                        NaN                    NaN   \n",
       "\n",
       "  F1 Score of Digit Prediction  \n",
       "0                      0.96875  \n",
       "1                      0.88764  \n",
       "2                          NaN  \n",
       "3                          NaN  \n",
       "4                          NaN  \n",
       "5                          NaN  "
      ]
     },
     "execution_count": 8,
     "metadata": {},
     "output_type": "execute_result"
    }
   ],
   "source": [
    "metrics_df = pd.DataFrame(index=np.arange(0, 6), columns=['Technique', 'Worst Performing Digit', 'F1 Score of Digit Prediction'])\n",
    "\n",
    "# KNN Prediction\n",
    "worst_f1_result = min([digit_prediction(KNeighborsClassifier(), df_binary, digit_number=k) for k in range(10)])\n",
    "metrics_df.loc[0] = ['KNN - Binary Pixel Values', worst_f1_result[3], worst_f1_result[0]]\n",
    "\n",
    "# Logistic Regression\n",
    "worst_f1_result = min([digit_prediction(LogisticRegression(), df_binary, digit_number=k) for k in range(10)])\n",
    "metrics_df.loc[1] = ['Logistic Regression - Binary Pixel Values', worst_f1_result[3], worst_f1_result[0]]\n",
    "\n",
    "metrics_df"
   ]
  },
  {
   "cell_type": "markdown",
   "metadata": {},
   "source": [
    "Copy dataframe for reducing dataset to 16 features for classification"
   ]
  },
  {
   "cell_type": "code",
   "execution_count": 9,
   "metadata": {},
   "outputs": [],
   "source": [
    "df_featureReduction_16 = df.copy()"
   ]
  },
  {
   "cell_type": "markdown",
   "metadata": {},
   "source": [
    "Define simple functions to generate summed row and column features"
   ]
  },
  {
   "cell_type": "code",
   "execution_count": 10,
   "metadata": {
    "collapsed": true
   },
   "outputs": [],
   "source": [
    "def sumPixelRow(df, pixel_row):\n",
    "    pixelRowSum = 0.0\n",
    "    for j in range(8):\n",
    "        pixelRowSum += df[(pixel_row * 8) + j]\n",
    "    df['sumRow'+str(pixel_row)] = pixelRowSum\n",
    "    \n",
    "def sumPixelCol(df, pixel_col):\n",
    "    pixelColSum = 0.0\n",
    "    for i in range(8):\n",
    "        pixelColSum += df[(i * 8) + pixel_col]\n",
    "    df['sumCol'+str(pixel_col)] = pixelColSum"
   ]
  },
  {
   "cell_type": "markdown",
   "metadata": {},
   "source": [
    "Calculate sumed row and column features and remove original features"
   ]
  },
  {
   "cell_type": "code",
   "execution_count": 11,
   "metadata": {},
   "outputs": [],
   "source": [
    "# Calculate features\n",
    "for i in range(8):\n",
    "    sumPixelRow(df_featureReduction_16, i)\n",
    "    sumPixelCol(df_featureReduction_16, i)\n",
    "    \n",
    "# Trim dataset to reduced features\n",
    "reducedFeatures = ['sumCol0','sumCol1','sumCol2','sumCol3','sumCol4','sumCol5','sumCol6','sumCol7','sumRow0','sumRow1','sumRow2','sumRow3','sumRow4','sumRow5','sumRow6','sumRow7','digit']\n",
    "df_featureReduction_16 = df_featureReduction_16[reducedFeatures]"
   ]
  },
  {
   "cell_type": "markdown",
   "metadata": {},
   "source": [
    "Load the metrics from KNN and Logistic Regression predictions using 8+8 features into results dataframe"
   ]
  },
  {
   "cell_type": "code",
   "execution_count": 12,
   "metadata": {},
   "outputs": [
    {
     "data": {
      "text/html": [
       "<div>\n",
       "<style>\n",
       "    .dataframe thead tr:only-child th {\n",
       "        text-align: right;\n",
       "    }\n",
       "\n",
       "    .dataframe thead th {\n",
       "        text-align: left;\n",
       "    }\n",
       "\n",
       "    .dataframe tbody tr th {\n",
       "        vertical-align: top;\n",
       "    }\n",
       "</style>\n",
       "<table border=\"1\" class=\"dataframe\">\n",
       "  <thead>\n",
       "    <tr style=\"text-align: right;\">\n",
       "      <th></th>\n",
       "      <th>Technique</th>\n",
       "      <th>Worst Performing Digit</th>\n",
       "      <th>F1 Score of Digit Prediction</th>\n",
       "    </tr>\n",
       "  </thead>\n",
       "  <tbody>\n",
       "    <tr>\n",
       "      <th>0</th>\n",
       "      <td>KNN - Binary Pixel Values</td>\n",
       "      <td>8</td>\n",
       "      <td>0.96875</td>\n",
       "    </tr>\n",
       "    <tr>\n",
       "      <th>1</th>\n",
       "      <td>Logistic Regression - Binary Pixel Values</td>\n",
       "      <td>3</td>\n",
       "      <td>0.88764</td>\n",
       "    </tr>\n",
       "    <tr>\n",
       "      <th>2</th>\n",
       "      <td>KNN - 8+8 Feature Reduction</td>\n",
       "      <td>8</td>\n",
       "      <td>0.816754</td>\n",
       "    </tr>\n",
       "    <tr>\n",
       "      <th>3</th>\n",
       "      <td>Logistic Regression - 8+8 Feature Reduction</td>\n",
       "      <td>8</td>\n",
       "      <td>0.630303</td>\n",
       "    </tr>\n",
       "    <tr>\n",
       "      <th>4</th>\n",
       "      <td>NaN</td>\n",
       "      <td>NaN</td>\n",
       "      <td>NaN</td>\n",
       "    </tr>\n",
       "    <tr>\n",
       "      <th>5</th>\n",
       "      <td>NaN</td>\n",
       "      <td>NaN</td>\n",
       "      <td>NaN</td>\n",
       "    </tr>\n",
       "  </tbody>\n",
       "</table>\n",
       "</div>"
      ],
      "text/plain": [
       "                                     Technique Worst Performing Digit  \\\n",
       "0                    KNN - Binary Pixel Values                      8   \n",
       "1    Logistic Regression - Binary Pixel Values                      3   \n",
       "2                  KNN - 8+8 Feature Reduction                      8   \n",
       "3  Logistic Regression - 8+8 Feature Reduction                      8   \n",
       "4                                          NaN                    NaN   \n",
       "5                                          NaN                    NaN   \n",
       "\n",
       "  F1 Score of Digit Prediction  \n",
       "0                      0.96875  \n",
       "1                      0.88764  \n",
       "2                     0.816754  \n",
       "3                     0.630303  \n",
       "4                          NaN  \n",
       "5                          NaN  "
      ]
     },
     "execution_count": 12,
     "metadata": {},
     "output_type": "execute_result"
    }
   ],
   "source": [
    "# KNN Prediction\n",
    "worst_f1_result = min([digit_prediction(KNeighborsClassifier(), df_featureReduction_16, digit_number=k) for k in range(10)])\n",
    "metrics_df.loc[2] = ['KNN - 8+8 Feature Reduction', worst_f1_result[3], worst_f1_result[0]]\n",
    "\n",
    "# Logistic Regression\n",
    "worst_f1_result = min([digit_prediction(LogisticRegression(), df_featureReduction_16, digit_number=k) for k in range(10)])\n",
    "metrics_df.loc[3] = ['Logistic Regression - 8+8 Feature Reduction', worst_f1_result[3], worst_f1_result[0]]\n",
    "\n",
    "metrics_df"
   ]
  },
  {
   "cell_type": "markdown",
   "metadata": {},
   "source": [
    "Copy dataframe for reducing dataset to 8 selected features for classification and trim to manually selected features"
   ]
  },
  {
   "cell_type": "code",
   "execution_count": 13,
   "metadata": {
    "collapsed": true
   },
   "outputs": [],
   "source": [
    "df_featureReduction_8 = df.copy()"
   ]
  },
  {
   "cell_type": "code",
   "execution_count": 14,
   "metadata": {},
   "outputs": [],
   "source": [
    " # Selected a doughnut shaped collection of pixels near the top of the digit\n",
    "df_featureReduction_8 = df_featureReduction_8[[19,20,21,27,29,35,36,37,'digit']]"
   ]
  },
  {
   "cell_type": "markdown",
   "metadata": {},
   "source": [
    "Load the metrics from KNN and Logistic Regression predictions using 8 manually selected features into results dataframe"
   ]
  },
  {
   "cell_type": "code",
   "execution_count": 15,
   "metadata": {},
   "outputs": [
    {
     "data": {
      "text/html": [
       "<div>\n",
       "<style>\n",
       "    .dataframe thead tr:only-child th {\n",
       "        text-align: right;\n",
       "    }\n",
       "\n",
       "    .dataframe thead th {\n",
       "        text-align: left;\n",
       "    }\n",
       "\n",
       "    .dataframe tbody tr th {\n",
       "        vertical-align: top;\n",
       "    }\n",
       "</style>\n",
       "<table border=\"1\" class=\"dataframe\">\n",
       "  <thead>\n",
       "    <tr style=\"text-align: right;\">\n",
       "      <th></th>\n",
       "      <th>Technique</th>\n",
       "      <th>Worst Performing Digit</th>\n",
       "      <th>F1 Score of Digit Prediction</th>\n",
       "    </tr>\n",
       "  </thead>\n",
       "  <tbody>\n",
       "    <tr>\n",
       "      <th>0</th>\n",
       "      <td>KNN - Binary Pixel Values</td>\n",
       "      <td>8</td>\n",
       "      <td>0.96875</td>\n",
       "    </tr>\n",
       "    <tr>\n",
       "      <th>1</th>\n",
       "      <td>Logistic Regression - Binary Pixel Values</td>\n",
       "      <td>3</td>\n",
       "      <td>0.88764</td>\n",
       "    </tr>\n",
       "    <tr>\n",
       "      <th>2</th>\n",
       "      <td>KNN - 8+8 Feature Reduction</td>\n",
       "      <td>8</td>\n",
       "      <td>0.816754</td>\n",
       "    </tr>\n",
       "    <tr>\n",
       "      <th>3</th>\n",
       "      <td>Logistic Regression - 8+8 Feature Reduction</td>\n",
       "      <td>8</td>\n",
       "      <td>0.630303</td>\n",
       "    </tr>\n",
       "    <tr>\n",
       "      <th>4</th>\n",
       "      <td>KNN - 8 Selected Features</td>\n",
       "      <td>4</td>\n",
       "      <td>0.765432</td>\n",
       "    </tr>\n",
       "    <tr>\n",
       "      <th>5</th>\n",
       "      <td>Logistic Regression - 8 Selected Features</td>\n",
       "      <td>4</td>\n",
       "      <td>0.616438</td>\n",
       "    </tr>\n",
       "  </tbody>\n",
       "</table>\n",
       "</div>"
      ],
      "text/plain": [
       "                                     Technique Worst Performing Digit  \\\n",
       "0                    KNN - Binary Pixel Values                      8   \n",
       "1    Logistic Regression - Binary Pixel Values                      3   \n",
       "2                  KNN - 8+8 Feature Reduction                      8   \n",
       "3  Logistic Regression - 8+8 Feature Reduction                      8   \n",
       "4                    KNN - 8 Selected Features                      4   \n",
       "5    Logistic Regression - 8 Selected Features                      4   \n",
       "\n",
       "  F1 Score of Digit Prediction  \n",
       "0                      0.96875  \n",
       "1                      0.88764  \n",
       "2                     0.816754  \n",
       "3                     0.630303  \n",
       "4                     0.765432  \n",
       "5                     0.616438  "
      ]
     },
     "execution_count": 15,
     "metadata": {},
     "output_type": "execute_result"
    }
   ],
   "source": [
    "# KNN Prediction\n",
    "worst_f1_result = min([digit_prediction(KNeighborsClassifier(), df_featureReduction_8, digit_number=k) for k in range(10)])\n",
    "metrics_df.loc[4] = ['KNN - 8 Selected Features', worst_f1_result[3], worst_f1_result[0]]\n",
    "\n",
    "# Logistic Regression\n",
    "worst_f1_result = min([digit_prediction(LogisticRegression(), df_featureReduction_8, digit_number=k) for k in range(10)])\n",
    "metrics_df.loc[5] = ['Logistic Regression - 8 Selected Features', worst_f1_result[3], worst_f1_result[0]]\n",
    "\n",
    "metrics_df"
   ]
  },
  {
   "cell_type": "markdown",
   "metadata": {},
   "source": [
    "It would be an enormous number of combinations if we wanted to try all combinations of pixels. \n",
    "\n",
    "Your first pick would be out of 64 choices, your next out of 63, ..., and your last pick out of 57 choices, which gives us:\n",
    "$$64 * 63 * 62 * 61 * 60 * 59 * 58 * 57$$\n",
    "or the equation:\n",
    "$${\\frac {64!}{(64-8)!8!}}$$\n",
    "\n",
    "and ultimately, a total number of 178,462,987,637,760 choices.\n",
    "\n",
    "One approach that would be much more efficient and should be reasonably effective is to narrow the options down to a simple \"doughnut\" of pixels, for example [0,1,2,8,10,16,17,18], which could be shifted around the pixel matrix. This would provide a reasonable generalization of an area of the matrix. Furthermore, there are only __36__ possible shifts of the pixel doughnut on an 8x8 pixel matrix."
   ]
  },
  {
   "cell_type": "code",
   "execution_count": 16,
   "metadata": {},
   "outputs": [],
   "source": [
    "def determinePixelFeatures(df, predictionAlgo):\n",
    "        \n",
    "    best_features = []\n",
    "    best_worst_f1 = []\n",
    "    \n",
    "    base_df = df.copy()\n",
    "    \n",
    "    \n",
    "    # Sample pixel doughnut\n",
    "    # curr_features = [0,1,2,8,10,16,17,18]\n",
    "    \n",
    "    curr_row = 0\n",
    "    curr_col = 0\n",
    "    \n",
    "    for k in range(36): \n",
    "        \n",
    "        # Update current features\n",
    "        shift = ((curr_row * 8) + curr_col)\n",
    "        curr_features = [(0 + shift), (1 + shift), (2 + shift), (8 + shift), (10 + shift), (16 + shift), (17 + shift), (18 + shift), 'digit']\n",
    "        \n",
    "        #print('*************************************')\n",
    "        #print('Iteration ')+str(k)\n",
    "        #print('curr_col: '+ str(curr_col))\n",
    "        #print('curr_row: '+ str(curr_row))\n",
    "        #print('currFeatures' + str(curr_features))\n",
    "        \n",
    "        # Update features in df\n",
    "        curr_df = base_df[curr_features].copy()\n",
    "        \n",
    "        # Predict\n",
    "        new_worst_f1 = min([digit_prediction(predictionAlgo, curr_df, digit_number=k) for k in range(10)])\n",
    "        #print 'New F1: '+str(new_worst_f1) \n",
    "        if new_worst_f1 > best_worst_f1:\n",
    "            #print 'F1 Improvement:'\n",
    "            #print '   curr best: ' + str(best_worst_f1)\n",
    "            #print '    new best: ' + str(new_worst_f1)\n",
    "            best_worst_f1 = new_worst_f1\n",
    "            best_features = curr_features\n",
    "        \n",
    "        #Update shift\n",
    "        if curr_col == 5:\n",
    "            curr_row += 1\n",
    "            curr_col = 0\n",
    "        else:\n",
    "            curr_col += 1\n",
    "    \n",
    "    return [best_features, best_worst_f1]"
   ]
  },
  {
   "cell_type": "markdown",
   "metadata": {},
   "source": [
    "Execute the feature selection algorithm using each prediction algorithm"
   ]
  },
  {
   "cell_type": "code",
   "execution_count": 17,
   "metadata": {},
   "outputs": [
    {
     "name": "stderr",
     "output_type": "stream",
     "text": [
      "C:\\Users\\beela\\Anaconda2\\lib\\site-packages\\sklearn\\metrics\\classification.py:1135: UndefinedMetricWarning: F-score is ill-defined and being set to 0.0 due to no predicted samples.\n",
      "  'precision', 'predicted', average, warn_for)\n",
      "C:\\Users\\beela\\Anaconda2\\lib\\site-packages\\sklearn\\metrics\\classification.py:1135: UndefinedMetricWarning: Precision is ill-defined and being set to 0.0 due to no predicted samples.\n",
      "  'precision', 'predicted', average, warn_for)\n"
     ]
    }
   ],
   "source": [
    "best_eight_features_knn = determinePixelFeatures(df.copy(), KNeighborsClassifier())\n",
    "best_eight_features_logReg = determinePixelFeatures(df.copy(), LogisticRegression())"
   ]
  },
  {
   "cell_type": "markdown",
   "metadata": {},
   "source": [
    "Print best features info, along with precision and recall for each digit"
   ]
  },
  {
   "cell_type": "code",
   "execution_count": 18,
   "metadata": {},
   "outputs": [],
   "source": [
    "def printBestFeaturesMetrics(predAlg, best_features_ds):\n",
    "    best_features = best_features_ds[0]\n",
    "    best_features_metrics = best_features_ds[1]\n",
    "\n",
    "    print '  ' + str(best_features)\n",
    "    print '    Worst Digit: ' + str(best_features_metrics[3])\n",
    "    print '    Worst Digit F1: ' + str(best_features_metrics[0])\n",
    "    for k in range(10):\n",
    "        results = digit_prediction(predAlg, df[best_features].copy(), digit_number=k)\n",
    "        print '    Digit ' + str(results[3]) \n",
    "        print '      Precision: ' + str(results[1])\n",
    "        print '      Recall: ' + str(results[2])"
   ]
  },
  {
   "cell_type": "code",
   "execution_count": 19,
   "metadata": {},
   "outputs": [
    {
     "name": "stdout",
     "output_type": "stream",
     "text": [
      "KNN - Best 8 Features\n",
      "  [19, 20, 21, 27, 29, 35, 36, 37, 'digit']\n",
      "    Worst Digit: 4\n",
      "    Worst Digit F1: 0.765432098765\n",
      "    Digit 0\n",
      "      Precision: 0.976744186047\n",
      "      Recall: 1.0\n",
      "    Digit 1\n",
      "      Precision: 0.887755102041\n",
      "      Recall: 0.935483870968\n",
      "    Digit 2\n",
      "      Precision: 0.882352941176\n",
      "      Recall: 0.903614457831\n",
      "    Digit 3\n",
      "      Precision: 0.8875\n",
      "      Recall: 0.755319148936\n",
      "    Digit 4\n",
      "      Precision: 0.849315068493\n",
      "      Recall: 0.696629213483\n",
      "    Digit 5\n",
      "      Precision: 0.883116883117\n",
      "      Recall: 0.723404255319\n",
      "    Digit 6\n",
      "      Precision: 0.8125\n",
      "      Recall: 0.876404494382\n",
      "    Digit 7\n",
      "      Precision: 0.808988764045\n",
      "      Recall: 0.847058823529\n",
      "    Digit 8\n",
      "      Precision: 0.914634146341\n",
      "      Recall: 0.773195876289\n",
      "    Digit 9\n",
      "      Precision: 0.923076923077\n",
      "      Recall: 0.791208791209\n",
      "\n",
      "Logistic Regression - Best 8 Features\n",
      "  [19, 20, 21, 27, 29, 35, 36, 37, 'digit']\n",
      "    Worst Digit: 4\n",
      "    Worst Digit F1: 0.616438356164\n",
      "    Digit 0\n",
      "      Precision: 0.988235294118\n",
      "      Recall: 1.0\n",
      "    Digit 1\n",
      "      Precision: 0.988235294118\n",
      "      Recall: 0.903225806452\n",
      "    Digit 2\n",
      "      Precision: 0.814285714286\n",
      "      Recall: 0.686746987952\n",
      "    Digit 3\n",
      "      Precision: 0.867469879518\n",
      "      Recall: 0.765957446809\n",
      "    Digit 4\n",
      "      Precision: 0.789473684211\n",
      "      Recall: 0.505617977528\n",
      "    Digit 5\n",
      "      Precision: 0.871428571429\n",
      "      Recall: 0.648936170213\n",
      "    Digit 6\n",
      "      Precision: 0.810526315789\n",
      "      Recall: 0.865168539326\n",
      "    Digit 7\n",
      "      Precision: 0.8\n",
      "      Recall: 0.611764705882\n",
      "    Digit 8\n",
      "      Precision: 0.923076923077\n",
      "      Recall: 0.618556701031\n",
      "    Digit 9\n",
      "      Precision: 0.916666666667\n",
      "      Recall: 0.846153846154\n"
     ]
    }
   ],
   "source": [
    "print 'KNN - Best 8 Features'\n",
    "printBestFeaturesMetrics(KNeighborsClassifier(), best_eight_features_knn)\n",
    "print ''\n",
    "print 'Logistic Regression - Best 8 Features'\n",
    "printBestFeaturesMetrics(LogisticRegression(), best_eight_features_logReg)"
   ]
  },
  {
   "cell_type": "code",
   "execution_count": null,
   "metadata": {
    "collapsed": true
   },
   "outputs": [],
   "source": []
  }
 ],
 "metadata": {
  "kernelspec": {
   "display_name": "Python 2",
   "language": "python",
   "name": "python2"
  },
  "language_info": {
   "codemirror_mode": {
    "name": "ipython",
    "version": 2
   },
   "file_extension": ".py",
   "mimetype": "text/x-python",
   "name": "python",
   "nbconvert_exporter": "python",
   "pygments_lexer": "ipython2",
   "version": "2.7.14"
  }
 },
 "nbformat": 4,
 "nbformat_minor": 2
}
