{
 "cells": [
  {
   "cell_type": "code",
   "execution_count": 1,
   "metadata": {
    "collapsed": true
   },
   "outputs": [],
   "source": [
    "import pandas as pd\n",
    "import numpy as np\n",
    "import sklearn\n",
    "from sklearn.pipeline import Pipeline\n",
    "from sklearn.preprocessing import StandardScaler, Imputer\n",
    "from sklearn.neighbors import KNeighborsClassifier\n",
    "from sklearn.linear_model import LogisticRegression, LinearRegression\n",
    "from sklearn.neighbors import KNeighborsRegressor\n",
    "from sklearn.metrics import confusion_matrix\n",
    "from sklearn.metrics import mean_squared_error\n",
    "import matplotlib\n",
    "import matplotlib.pylab as plt\n",
    "%matplotlib inline"
   ]
  },
  {
   "cell_type": "markdown",
   "metadata": {},
   "source": [
    "Load the ethereum dataset"
   ]
  },
  {
   "cell_type": "code",
   "execution_count": 2,
   "metadata": {
    "collapsed": true
   },
   "outputs": [],
   "source": [
    "df = pd.read_csv('ethereum_dataset.csv')"
   ]
  },
  {
   "cell_type": "markdown",
   "metadata": {},
   "source": [
    "Drop all columns but `UnixTimeStamp` & `eth_etherprice`"
   ]
  },
  {
   "cell_type": "code",
   "execution_count": 3,
   "metadata": {
    "collapsed": true
   },
   "outputs": [],
   "source": [
    "df = df[['UnixTimeStamp','eth_etherprice']].copy()"
   ]
  },
  {
   "cell_type": "markdown",
   "metadata": {},
   "source": [
    "Define a function that calculates the logarithmic return (continuously compounded return / force of interest) for every record per the equation:\n",
    "$$R = \\ln \\left({\\frac {V_{f}}{V_{i}}}\\right)$$\n",
    "Where __Vf__ is the final value and __Vi__ is the initial value"
   ]
  },
  {
   "cell_type": "code",
   "execution_count": 4,
   "metadata": {
    "collapsed": true
   },
   "outputs": [],
   "source": [
    "def calculateLogReturn(df, numDays_windowLag, value_col, timestamp_col, result_col):\n",
    "    secondsInDay = 86400\n",
    "    \n",
    "    # Create a copy of df for processing\n",
    "    df_copy = df.copy()\n",
    "    \n",
    "    # Create columns for 'final value' and initial value' timestamps \n",
    "    df_copy['finalTimeStamp'] = df[timestamp_col] - ((numDays_windowLag) * secondsInDay)\n",
    "    df_copy['initialTimeStamp'] = df[timestamp_col] - ((numDays_windowLag+1) * secondsInDay)\n",
    "    \n",
    "    # create an array to collect results\n",
    "    results = []\n",
    "    \n",
    "    # iterate over df_copy and generate log return for each row\n",
    "    for i, row in df_copy.iterrows():\n",
    "        finalTimeStamp = row['finalTimeStamp']\n",
    "        initialTimeStamp = row['initialTimeStamp']\n",
    "        currentValSeries = df.loc[(df[timestamp_col] == finalTimeStamp), value_col]\n",
    "        initialValSeries = df.loc[(df[timestamp_col] == initialTimeStamp), value_col]\n",
    "        currentVal = None\n",
    "        initialVal = None\n",
    "        logReturn = None\n",
    "        \n",
    "        # Debug Statements\n",
    "        #print \"-------------------\"\n",
    "        #print \"Row: \" + str(i)\n",
    "        \n",
    "        # if there is a value for 'value_col' for initialTimeStamp  \n",
    "        if not initialValSeries.empty:\n",
    "            initialVal = float(initialValSeries)\n",
    "            \n",
    "            #print \"InitialVal: \" + str(initialVal)\n",
    "            # if there is a value for 'value_col' for currentTimeStamp\n",
    "            if not currentValSeries.empty:\n",
    "                currentVal = float(currentValSeries)\n",
    "                \n",
    "                #print \"CurrentVal: \" + str(currentVal)\n",
    "                # to avoid divide by zero\n",
    "                if not (initialVal == 0):\n",
    "                    # calculate log return\n",
    "                    finalOverInitialValue = (currentVal / initialVal)\n",
    "                    #print \"fraction: \" + str(finalOverInitialValue)\n",
    "                    # If ln(0), avoid calculation and leave null\n",
    "                    if(finalOverInitialValue != 0):\n",
    "                        logReturn = np.log(finalOverInitialValue)\n",
    "                        #print \"R: \" + str(logReturn)\n",
    "\n",
    "        results.append(logReturn)\n",
    "    \n",
    "    # copy results into result_col\n",
    "    df[result_col] = results"
   ]
  },
  {
   "cell_type": "markdown",
   "metadata": {},
   "source": [
    "Calculate log returns for windows ranging from the previous day to the previous 10 days"
   ]
  },
  {
   "cell_type": "code",
   "execution_count": 5,
   "metadata": {
    "collapsed": true,
    "scrolled": true
   },
   "outputs": [],
   "source": [
    "calculateLogReturn(df, 0, 'eth_etherprice','UnixTimeStamp', 'logReturn')\n",
    "calculateLogReturn(df, 1, 'eth_etherprice','UnixTimeStamp', 'logReturn-1')\n",
    "calculateLogReturn(df, 2, 'eth_etherprice','UnixTimeStamp', 'logReturn-2')\n",
    "calculateLogReturn(df, 3, 'eth_etherprice','UnixTimeStamp', 'logReturn-3')\n",
    "calculateLogReturn(df, 4, 'eth_etherprice','UnixTimeStamp', 'logReturn-4')\n",
    "calculateLogReturn(df, 5, 'eth_etherprice','UnixTimeStamp', 'logReturn-5')\n",
    "calculateLogReturn(df, 6, 'eth_etherprice','UnixTimeStamp', 'logReturn-6')\n",
    "calculateLogReturn(df, 7, 'eth_etherprice','UnixTimeStamp', 'logReturn-7')\n",
    "calculateLogReturn(df, 8, 'eth_etherprice','UnixTimeStamp', 'logReturn-8')\n",
    "calculateLogReturn(df, 9, 'eth_etherprice','UnixTimeStamp', 'logReturn-9')\n",
    "calculateLogReturn(df, 10, 'eth_etherprice','UnixTimeStamp', 'logReturn-10')"
   ]
  },
  {
   "cell_type": "markdown",
   "metadata": {},
   "source": [
    "Filter out rows that have a null value for any log-return feature"
   ]
  },
  {
   "cell_type": "code",
   "execution_count": 6,
   "metadata": {
    "collapsed": true
   },
   "outputs": [],
   "source": [
    "df = df[df['logReturn'].notnull()]\n",
    "df = df[df['logReturn-1'].notnull()]\n",
    "df = df[df['logReturn-2'].notnull()]\n",
    "df = df[df['logReturn-3'].notnull()]\n",
    "df = df[df['logReturn-4'].notnull()]\n",
    "df = df[df['logReturn-5'].notnull()]\n",
    "df = df[df['logReturn-6'].notnull()]\n",
    "df = df[df['logReturn-7'].notnull()]\n",
    "df = df[df['logReturn-8'].notnull()]\n",
    "df = df[df['logReturn-9'].notnull()]\n",
    "df = df[df['logReturn-10'].notnull()]"
   ]
  },
  {
   "cell_type": "markdown",
   "metadata": {},
   "source": [
    "Define a function that will calculate the labels for the training set \n",
    "Function returns a boolean (1 or 0) indicating whether next day log return is positive or not\n",
    "(assumes that log return with desired window has been calculated for all records)"
   ]
  },
  {
   "cell_type": "code",
   "execution_count": 7,
   "metadata": {
    "collapsed": true
   },
   "outputs": [],
   "source": [
    "def calculateNextDayReturnSign(df, logReturn_value_col, timestamp_col, result_col):\n",
    "    secondsInDay = 86400\n",
    "    \n",
    "    # Create a copy of df for processing\n",
    "    df_copy = df.copy()\n",
    "    \n",
    "    # Create a column for 'next day' timestamp \n",
    "    df_copy['nextDayTimeStamp'] = df[timestamp_col] + secondsInDay\n",
    "    \n",
    "    # create an array to collect results\n",
    "    results = []\n",
    "    \n",
    "    # iterate over df_copy and generate log return prediction for each row\n",
    "    for i, row in df_copy.iterrows():\n",
    "        nextDayTimeStamp = row['nextDayTimeStamp']\n",
    "        nextDaylogReturnSeries = df.loc[(df[timestamp_col] == nextDayTimeStamp), logReturn_value_col]\n",
    "        nextDayVal = None\n",
    "        isLogReturnPositive = None\n",
    "        \n",
    "        # if there is a value for 'logReturn_value_col' for the next day  \n",
    "        if not nextDaylogReturnSeries.empty:\n",
    "            nextDayLogReturnVal = float(nextDaylogReturnSeries)\n",
    "            \n",
    "            if (nextDayLogReturnVal > 0):\n",
    "                isLogReturnPositive = 1\n",
    "            else:\n",
    "                isLogReturnPositive = 0\n",
    "        \n",
    "        results.append(isLogReturnPositive)\n",
    "    \n",
    "    # copy results into result_col\n",
    "    df[result_col] = results"
   ]
  },
  {
   "cell_type": "markdown",
   "metadata": {},
   "source": [
    "Calculate labels for dataset ( `nextDayLogReturnPositive` ) "
   ]
  },
  {
   "cell_type": "code",
   "execution_count": 8,
   "metadata": {
    "collapsed": true
   },
   "outputs": [],
   "source": [
    "calculateNextDayReturnSign(df, 'logReturn', 'UnixTimeStamp', 'nextDayLogReturnPositive')"
   ]
  },
  {
   "cell_type": "markdown",
   "metadata": {},
   "source": [
    "Drop last row as we cannot create a testing label for it (no next day available to build label from)\n",
    "\n",
    "Convert labels to int"
   ]
  },
  {
   "cell_type": "code",
   "execution_count": 9,
   "metadata": {
    "collapsed": true
   },
   "outputs": [],
   "source": [
    "df = df.iloc[:-1].copy()\n",
    "df.nextDayLogReturnPositive = df.nextDayLogReturnPositive.astype(int)"
   ]
  },
  {
   "cell_type": "markdown",
   "metadata": {},
   "source": [
    "Drop timestamp column for predictions"
   ]
  },
  {
   "cell_type": "code",
   "execution_count": 10,
   "metadata": {
    "collapsed": true
   },
   "outputs": [],
   "source": [
    "df = df.drop(['UnixTimeStamp'], axis=1)"
   ]
  },
  {
   "cell_type": "markdown",
   "metadata": {},
   "source": [
    "Split dataset into training and testing subsets"
   ]
  },
  {
   "cell_type": "code",
   "execution_count": 11,
   "metadata": {
    "collapsed": true
   },
   "outputs": [],
   "source": [
    "y = 'nextDayLogReturnPositive'\n",
    "n = int(len(df)/2)\n",
    "df_train, df_test = df.iloc[:n].copy(), df.iloc[n:].copy()\n",
    "\n",
    "X_train, y_train = df_train[df_train.columns.drop(y)], df_train[y]\n",
    "X_test, y_test = df_test[df_test.columns.drop(y)], df_test[y]\n",
    "\n",
    "X_test_with_price = X_test.copy()\n",
    "#X_test = X_test[X_test.columns.drop('eth_etherprice')]\n",
    "#X_train = X_train[X_train.columns.drop('eth_etherprice')]"
   ]
  },
  {
   "cell_type": "markdown",
   "metadata": {},
   "source": [
    "Build a pipeline to process the dataset, build a model, and predict values:"
   ]
  },
  {
   "cell_type": "code",
   "execution_count": 12,
   "metadata": {
    "collapsed": true
   },
   "outputs": [],
   "source": [
    "knn_pipeline = Pipeline([\n",
    "    ('my_std_scaler', StandardScaler()),\n",
    "    ('masteralg', KNeighborsClassifier())    \n",
    "])"
   ]
  },
  {
   "cell_type": "markdown",
   "metadata": {},
   "source": [
    "Process dataset (normalizing features), then run KNeighborsClassifier fit/predict"
   ]
  },
  {
   "cell_type": "code",
   "execution_count": 13,
   "metadata": {
    "collapsed": true
   },
   "outputs": [],
   "source": [
    "knn_pipeline.fit(X_train, y_train)\n",
    "y_pred = knn_pipeline.predict(X_test)"
   ]
  },
  {
   "cell_type": "markdown",
   "metadata": {},
   "source": [
    "Print Confusion Matrix for predicted Y values:"
   ]
  },
  {
   "cell_type": "code",
   "execution_count": 14,
   "metadata": {},
   "outputs": [
    {
     "name": "stdout",
     "output_type": "stream",
     "text": [
      "[[ 57 149]\n",
      " [ 49 149]]\n"
     ]
    }
   ],
   "source": [
    "print sklearn.metrics.confusion_matrix(y_test, y_pred)"
   ]
  },
  {
   "cell_type": "markdown",
   "metadata": {},
   "source": [
    "Exract true negative (tn), false positive (fp), false negative (fn), and true positive (tp) counts"
   ]
  },
  {
   "cell_type": "code",
   "execution_count": 15,
   "metadata": {},
   "outputs": [
    {
     "data": {
      "text/plain": [
       "(57, 149, 49, 149)"
      ]
     },
     "execution_count": 15,
     "metadata": {},
     "output_type": "execute_result"
    }
   ],
   "source": [
    "tn, fp, fn, tp = sklearn.metrics.confusion_matrix(y_test, y_pred).ravel()\n",
    "(tn, fp, fn, tp)"
   ]
  },
  {
   "cell_type": "markdown",
   "metadata": {},
   "source": [
    "Calculate additional metrics based on confusion matrix"
   ]
  },
  {
   "cell_type": "code",
   "execution_count": 16,
   "metadata": {
    "collapsed": true
   },
   "outputs": [],
   "source": [
    "num_predicted_correctly = tn + tp\n",
    "tpr = float(tp)/(tp+fp) # precision / true positive rate\n",
    "tnr = float(tn)/(tn+fp) # true negative rate\n",
    "ppv = float(tp)/(tp+fn) # recall / positive predictive value\n",
    "npv = float(tn)/(tn+fn) # negative predictive value"
   ]
  },
  {
   "cell_type": "code",
   "execution_count": 17,
   "metadata": {
    "collapsed": true
   },
   "outputs": [],
   "source": [
    "# f1 = 2.0/(1.0/ppv+1.0/tpr)\n",
    "f1 = sklearn.metrics.f1_score(y_test, y_pred)"
   ]
  },
  {
   "cell_type": "markdown",
   "metadata": {},
   "source": [
    "Define a function that will take a starting amount of \"cash\" and simulate buying and selling of ethereum each day (per the provided dataset) depending on the provided prediction"
   ]
  },
  {
   "cell_type": "code",
   "execution_count": 18,
   "metadata": {
    "collapsed": true
   },
   "outputs": [],
   "source": [
    "def simulateEthereumPurchases(df, y_pred, price_col, start_df_index, start_USD_amount):\n",
    "    curr_USD_amount = start_USD_amount\n",
    "    curr_ethereum_amount = 0.0\n",
    "    final_ethereum_price = float(df.iloc[-1:][price_col])\n",
    "    \n",
    "    # iterate over df and buy or sell all on each day depending on \n",
    "    for i, row in df.iterrows():\n",
    "        #print i\n",
    "        curr_ethereum_price = row['eth_etherprice']\n",
    "        curr_prediction = y_pred[i-start_df_index]\n",
    "        \n",
    "        # If you have USD and prediction is positive\n",
    "        if curr_prediction and (curr_USD_amount > 0):\n",
    "            curr_ethereum_amount += (curr_USD_amount / curr_ethereum_price)\n",
    "            curr_USD_amount = 0.0\n",
    "            #print 'BUY: ' + str(curr_ethereum_amount) + ' ethereum at $' + str(curr_ethereum_price)\n",
    "        # If you have ethereum and prediction is negative    \n",
    "        elif (not curr_prediction) and (curr_ethereum_amount > 0): \n",
    "            #print 'SELL: ' + str(curr_ethereum_amount) + ' ethereum at $' + str(curr_ethereum_price)\n",
    "            curr_USD_amount += (curr_ethereum_amount * curr_ethereum_price)\n",
    "            curr_ethereum_amount = 0.0\n",
    "        # Else hold for the day\n",
    "        #else:\n",
    "            #print 'HOLD - Net Value:' + str((curr_ethereum_amount * curr_ethereum_price) if (curr_ethereum_amount > 0) else curr_USD_amount)\n",
    "        \n",
    "    #After processing all days, return net worth in USD\n",
    "    return (curr_ethereum_amount * curr_ethereum_price) if (curr_ethereum_amount > 0) else curr_USD_amount"
   ]
  },
  {
   "cell_type": "markdown",
   "metadata": {},
   "source": [
    "Calculate resulting net worth if using predictions from K Nearest Neighbors to decide when to buy / sell ethereum with test dataset"
   ]
  },
  {
   "cell_type": "code",
   "execution_count": 19,
   "metadata": {
    "collapsed": true
   },
   "outputs": [],
   "source": [
    "knn_pred_net_worth = simulateEthereumPurchases(X_test_with_price, y_pred, 'eth_etherprice', 427, 1000)"
   ]
  },
  {
   "cell_type": "markdown",
   "metadata": {},
   "source": [
    "Create a simple dataframe to hold and display metrics, then load the metrics for this execution"
   ]
  },
  {
   "cell_type": "code",
   "execution_count": 20,
   "metadata": {},
   "outputs": [
    {
     "data": {
      "text/html": [
       "<div>\n",
       "<style>\n",
       "    .dataframe thead tr:only-child th {\n",
       "        text-align: right;\n",
       "    }\n",
       "\n",
       "    .dataframe thead th {\n",
       "        text-align: left;\n",
       "    }\n",
       "\n",
       "    .dataframe tbody tr th {\n",
       "        vertical-align: top;\n",
       "    }\n",
       "</style>\n",
       "<table border=\"1\" class=\"dataframe\">\n",
       "  <thead>\n",
       "    <tr style=\"text-align: right;\">\n",
       "      <th></th>\n",
       "      <th>Technique</th>\n",
       "      <th>% Predicted Correctly</th>\n",
       "      <th>% of True Positives</th>\n",
       "      <th>% of True Negatives</th>\n",
       "      <th>% of False Positives</th>\n",
       "      <th>% of False Negatives</th>\n",
       "      <th>F1 Score</th>\n",
       "      <th>Final Net Worth</th>\n",
       "    </tr>\n",
       "  </thead>\n",
       "  <tbody>\n",
       "    <tr>\n",
       "      <th>0</th>\n",
       "      <td>KNN</td>\n",
       "      <td>50.9901</td>\n",
       "      <td>36.8812</td>\n",
       "      <td>14.1089</td>\n",
       "      <td>36.8812</td>\n",
       "      <td>12.1287</td>\n",
       "      <td>0.600806</td>\n",
       "      <td>14439.6</td>\n",
       "    </tr>\n",
       "    <tr>\n",
       "      <th>1</th>\n",
       "      <td>NaN</td>\n",
       "      <td>NaN</td>\n",
       "      <td>NaN</td>\n",
       "      <td>NaN</td>\n",
       "      <td>NaN</td>\n",
       "      <td>NaN</td>\n",
       "      <td>NaN</td>\n",
       "      <td>NaN</td>\n",
       "    </tr>\n",
       "    <tr>\n",
       "      <th>2</th>\n",
       "      <td>NaN</td>\n",
       "      <td>NaN</td>\n",
       "      <td>NaN</td>\n",
       "      <td>NaN</td>\n",
       "      <td>NaN</td>\n",
       "      <td>NaN</td>\n",
       "      <td>NaN</td>\n",
       "      <td>NaN</td>\n",
       "    </tr>\n",
       "  </tbody>\n",
       "</table>\n",
       "</div>"
      ],
      "text/plain": [
       "  Technique % Predicted Correctly % of True Positives % of True Negatives  \\\n",
       "0       KNN               50.9901             36.8812             14.1089   \n",
       "1       NaN                   NaN                 NaN                 NaN   \n",
       "2       NaN                   NaN                 NaN                 NaN   \n",
       "\n",
       "  % of False Positives % of False Negatives  F1 Score Final Net Worth  \n",
       "0              36.8812              12.1287  0.600806         14439.6  \n",
       "1                  NaN                  NaN       NaN             NaN  \n",
       "2                  NaN                  NaN       NaN             NaN  "
      ]
     },
     "execution_count": 20,
     "metadata": {},
     "output_type": "execute_result"
    }
   ],
   "source": [
    "metrics_df = pd.DataFrame(index=np.arange(0, 3), columns=['Technique', '% Predicted Correctly', '% of True Positives', '% of True Negatives', '% of False Positives', '% of False Negatives' , 'F1 Score', 'Final Net Worth'])\n",
    "metrics_df.loc[0] = ['KNN', ((float(num_predicted_correctly)/len(y_test))*100), ((float(tp)/len(y_test))*100), ((float(tn)/len(y_test))*100), ((float(fp)/len(y_test))*100), ((float(fn)/len(y_test))*100), f1, knn_pred_net_worth]\n",
    "metrics_df"
   ]
  },
  {
   "cell_type": "markdown",
   "metadata": {},
   "source": [
    "Build a pipeline to process the dataset, build a model, and predict values using LogisticRegression:"
   ]
  },
  {
   "cell_type": "code",
   "execution_count": 21,
   "metadata": {
    "collapsed": true
   },
   "outputs": [],
   "source": [
    "logistic_regression_pipeline = Pipeline([\n",
    "    ('my_std_scaler', StandardScaler()),\n",
    "    ('masteralg', LogisticRegression())    \n",
    "])"
   ]
  },
  {
   "cell_type": "markdown",
   "metadata": {},
   "source": [
    "Process dataset (normalizing features), then run LogisticRegression fit/predict"
   ]
  },
  {
   "cell_type": "code",
   "execution_count": 22,
   "metadata": {
    "collapsed": true
   },
   "outputs": [],
   "source": [
    "logistic_regression_pipeline.fit(X_train, y_train)\n",
    "y_pred = logistic_regression_pipeline.predict(X_test)"
   ]
  },
  {
   "cell_type": "markdown",
   "metadata": {},
   "source": [
    "Print Confusion Matrix for predicted Y values:"
   ]
  },
  {
   "cell_type": "code",
   "execution_count": 23,
   "metadata": {},
   "outputs": [
    {
     "name": "stdout",
     "output_type": "stream",
     "text": [
      "[[189  17]\n",
      " [174  24]]\n"
     ]
    }
   ],
   "source": [
    "print sklearn.metrics.confusion_matrix(y_test, y_pred)"
   ]
  },
  {
   "cell_type": "markdown",
   "metadata": {},
   "source": [
    "Exract true negative (tn), false positive (fp), false negative (fn), and true positive (tp) counts"
   ]
  },
  {
   "cell_type": "code",
   "execution_count": 24,
   "metadata": {
    "collapsed": true
   },
   "outputs": [],
   "source": [
    "tn, fp, fn, tp = sklearn.metrics.confusion_matrix(y_test, y_pred).ravel()"
   ]
  },
  {
   "cell_type": "markdown",
   "metadata": {},
   "source": [
    "Create additional metrics based on confusion matrix"
   ]
  },
  {
   "cell_type": "code",
   "execution_count": 25,
   "metadata": {
    "collapsed": true
   },
   "outputs": [],
   "source": [
    "num_predicted_correctly = tn + tp\n",
    "tpr = float(tp)/(tp+fp) # precision / true positive rate\n",
    "tnr = float(tn)/(tn+fp) # true negative rate\n",
    "ppv = float(tp)/(tp+fn) # recall / positive predictive value\n",
    "npv = float(tn)/(tn+fn) # negative predictive value"
   ]
  },
  {
   "cell_type": "code",
   "execution_count": 26,
   "metadata": {
    "collapsed": true
   },
   "outputs": [],
   "source": [
    "# f1 = 2.0/(1.0/ppv+1.0/tpr)\n",
    "f1 = sklearn.metrics.f1_score(y_test, y_pred)"
   ]
  },
  {
   "cell_type": "markdown",
   "metadata": {},
   "source": [
    "Calculate resulting net worth if using predictions from logarithmic regression model to decide when to buy / sell ethereum with test dataset"
   ]
  },
  {
   "cell_type": "code",
   "execution_count": 27,
   "metadata": {
    "collapsed": true
   },
   "outputs": [],
   "source": [
    "log_reg_pred_net_worth = simulateEthereumPurchases(X_test_with_price, y_pred, 'eth_etherprice', 427, 1000)"
   ]
  },
  {
   "cell_type": "markdown",
   "metadata": {},
   "source": [
    "Load the metrics from this execution into the metrics dataframe"
   ]
  },
  {
   "cell_type": "code",
   "execution_count": 28,
   "metadata": {},
   "outputs": [
    {
     "data": {
      "text/html": [
       "<div>\n",
       "<style>\n",
       "    .dataframe thead tr:only-child th {\n",
       "        text-align: right;\n",
       "    }\n",
       "\n",
       "    .dataframe thead th {\n",
       "        text-align: left;\n",
       "    }\n",
       "\n",
       "    .dataframe tbody tr th {\n",
       "        vertical-align: top;\n",
       "    }\n",
       "</style>\n",
       "<table border=\"1\" class=\"dataframe\">\n",
       "  <thead>\n",
       "    <tr style=\"text-align: right;\">\n",
       "      <th></th>\n",
       "      <th>Technique</th>\n",
       "      <th>% Predicted Correctly</th>\n",
       "      <th>% of True Positives</th>\n",
       "      <th>% of True Negatives</th>\n",
       "      <th>% of False Positives</th>\n",
       "      <th>% of False Negatives</th>\n",
       "      <th>F1 Score</th>\n",
       "      <th>Final Net Worth</th>\n",
       "    </tr>\n",
       "  </thead>\n",
       "  <tbody>\n",
       "    <tr>\n",
       "      <th>0</th>\n",
       "      <td>KNN</td>\n",
       "      <td>50.9901</td>\n",
       "      <td>36.8812</td>\n",
       "      <td>14.1089</td>\n",
       "      <td>36.8812</td>\n",
       "      <td>12.1287</td>\n",
       "      <td>0.600806</td>\n",
       "      <td>14439.6</td>\n",
       "    </tr>\n",
       "    <tr>\n",
       "      <th>1</th>\n",
       "      <td>Logistic Regression</td>\n",
       "      <td>52.7228</td>\n",
       "      <td>5.94059</td>\n",
       "      <td>46.7822</td>\n",
       "      <td>4.20792</td>\n",
       "      <td>43.0693</td>\n",
       "      <td>0.200837</td>\n",
       "      <td>1124.65</td>\n",
       "    </tr>\n",
       "    <tr>\n",
       "      <th>2</th>\n",
       "      <td>NaN</td>\n",
       "      <td>NaN</td>\n",
       "      <td>NaN</td>\n",
       "      <td>NaN</td>\n",
       "      <td>NaN</td>\n",
       "      <td>NaN</td>\n",
       "      <td>NaN</td>\n",
       "      <td>NaN</td>\n",
       "    </tr>\n",
       "  </tbody>\n",
       "</table>\n",
       "</div>"
      ],
      "text/plain": [
       "             Technique % Predicted Correctly % of True Positives  \\\n",
       "0                  KNN               50.9901             36.8812   \n",
       "1  Logistic Regression               52.7228             5.94059   \n",
       "2                  NaN                   NaN                 NaN   \n",
       "\n",
       "  % of True Negatives % of False Positives % of False Negatives  F1 Score  \\\n",
       "0             14.1089              36.8812              12.1287  0.600806   \n",
       "1             46.7822              4.20792              43.0693  0.200837   \n",
       "2                 NaN                  NaN                  NaN       NaN   \n",
       "\n",
       "  Final Net Worth  \n",
       "0         14439.6  \n",
       "1         1124.65  \n",
       "2             NaN  "
      ]
     },
     "execution_count": 28,
     "metadata": {},
     "output_type": "execute_result"
    }
   ],
   "source": [
    "metrics_df.loc[1] = ['Logistic Regression', ((float(num_predicted_correctly)/len(y_test))*100), ((float(tp)/len(y_test))*100), ((float(tn)/len(y_test))*100), ((float(fp)/len(y_test))*100), ((float(fn)/len(y_test))*100), f1, log_reg_pred_net_worth]\n",
    "metrics_df"
   ]
  },
  {
   "cell_type": "markdown",
   "metadata": {},
   "source": [
    "Calculate Net Worth if simply buying on first day of test dataset, and selling on last day of test dataset"
   ]
  },
  {
   "cell_type": "code",
   "execution_count": 29,
   "metadata": {},
   "outputs": [
    {
     "data": {
      "text/html": [
       "<div>\n",
       "<style>\n",
       "    .dataframe thead tr:only-child th {\n",
       "        text-align: right;\n",
       "    }\n",
       "\n",
       "    .dataframe thead th {\n",
       "        text-align: left;\n",
       "    }\n",
       "\n",
       "    .dataframe tbody tr th {\n",
       "        vertical-align: top;\n",
       "    }\n",
       "</style>\n",
       "<table border=\"1\" class=\"dataframe\">\n",
       "  <thead>\n",
       "    <tr style=\"text-align: right;\">\n",
       "      <th></th>\n",
       "      <th>Technique</th>\n",
       "      <th>% Predicted Correctly</th>\n",
       "      <th>% of True Positives</th>\n",
       "      <th>% of True Negatives</th>\n",
       "      <th>% of False Positives</th>\n",
       "      <th>% of False Negatives</th>\n",
       "      <th>F1 Score</th>\n",
       "      <th>Final Net Worth</th>\n",
       "    </tr>\n",
       "  </thead>\n",
       "  <tbody>\n",
       "    <tr>\n",
       "      <th>0</th>\n",
       "      <td>KNN</td>\n",
       "      <td>50.9901</td>\n",
       "      <td>36.8812</td>\n",
       "      <td>14.1089</td>\n",
       "      <td>36.8812</td>\n",
       "      <td>12.1287</td>\n",
       "      <td>0.600806</td>\n",
       "      <td>14439.6</td>\n",
       "    </tr>\n",
       "    <tr>\n",
       "      <th>1</th>\n",
       "      <td>Logistic Regression</td>\n",
       "      <td>52.7228</td>\n",
       "      <td>5.94059</td>\n",
       "      <td>46.7822</td>\n",
       "      <td>4.20792</td>\n",
       "      <td>43.0693</td>\n",
       "      <td>0.200837</td>\n",
       "      <td>1124.65</td>\n",
       "    </tr>\n",
       "    <tr>\n",
       "      <th>2</th>\n",
       "      <td>Buy First Day, Sell Last Day</td>\n",
       "      <td>None</td>\n",
       "      <td>None</td>\n",
       "      <td>None</td>\n",
       "      <td>None</td>\n",
       "      <td>None</td>\n",
       "      <td>None</td>\n",
       "      <td>22317.3</td>\n",
       "    </tr>\n",
       "  </tbody>\n",
       "</table>\n",
       "</div>"
      ],
      "text/plain": [
       "                      Technique % Predicted Correctly % of True Positives  \\\n",
       "0                           KNN               50.9901             36.8812   \n",
       "1           Logistic Regression               52.7228             5.94059   \n",
       "2  Buy First Day, Sell Last Day                  None                None   \n",
       "\n",
       "  % of True Negatives % of False Positives % of False Negatives  F1 Score  \\\n",
       "0             14.1089              36.8812              12.1287  0.600806   \n",
       "1             46.7822              4.20792              43.0693  0.200837   \n",
       "2                None                 None                 None      None   \n",
       "\n",
       "  Final Net Worth  \n",
       "0         14439.6  \n",
       "1         1124.65  \n",
       "2         22317.3  "
      ]
     },
     "execution_count": 29,
     "metadata": {},
     "output_type": "execute_result"
    }
   ],
   "source": [
    "\n",
    "simple_net_worth = 1000\n",
    "# Divide $1000 by initial ethereum value\n",
    "total_ethereum_count = (simple_net_worth / float(df_test.iloc[0]['eth_etherprice']))\n",
    "# Multiply total_ethereum_count by final ethereum value\n",
    "simple_net_worth = (total_ethereum_count * float(df_test.iloc[-1:]['eth_etherprice']))\n",
    "\n",
    "metrics_df.loc[2] = ['Buy First Day, Sell Last Day', None, None, None, None, None, None, simple_net_worth]\n",
    "metrics_df"
   ]
  },
  {
   "cell_type": "markdown",
   "metadata": {},
   "source": [
    "I performed additional analysis, documented in the table below, where I varied included columns and Scaling. The analysis proved illuminating and shows how these different variables can affect the accuracy of the results."
   ]
  },
  {
   "cell_type": "markdown",
   "metadata": {},
   "source": [
    "|   __Incl. both Price and Timestamp - Use Scaler__                             |                       |                       |                     |                      |                      |                      |                 |                 |\n",
    "|-------------------------------------------------------------------------------|-----------------------|-----------------------|---------------------|----------------------|----------------------|----------------------|-----------------|-----------------|\n",
    "|                                                                               | Technique             | % Predicted Correctly | % of True Positives | % of True Negatives  | % of False Positives | % of False Negatives | F1 Score        | Final Net Worth |\n",
    "| 0                                                                             | KNN                   | 49.2574               | 35.6436             | 13.6139              | 37.3762              | 13.3663              | 0.584178        | 6456.47         |\n",
    "| 1                                                                             | LR                    | 48.5149               | 18.3168             | 30.198               | 20.7921              | 30.6931              | 0.41573         | 2250.7          |\n",
    "| 2                                                                             | -                     | None                  | None                | None                 | None                 | None                 | None            | 22317.30        |\n",
    "|   __Incl. both Price and Timestamp - No scaler (Converges to all T or all F)__|                       |                       |                     |                      |                      |                      |                 |                 |\n",
    "|                                                                               | Technique             | % Predicted Correctly | % of True Positives | % of True Negatives  | % of False Positives | % of False Negatives | F1 Score        | Final Net Worth |\n",
    "| 0                                                                             | KNN                   | 49.0099               | 49.0099             | 0                    | 50.9901              | 0                    | 0.657807        | 22317.3         |\n",
    "| 1                                                                             | LR                    | 50.9901               | 0                   | 50.9901              | 0                    | 49.0099              | 0               | 1000            |\n",
    "| 2                                                                             | -                     | None                  | None                | None                 | None                 | None                 | None            | 22317.3         |\n",
    "|   __Incl. only price - Use Scaler__                                           |                       |                       |                     |                      |                      |                      |                 |                 |\n",
    "|                                                                               | Technique             | % Predicted Correctly | % of True Positives | % of True Negatives  | % of False Positives | % of False Negatives | F1 Score        | Final Net Worth |\n",
    "| 0                                                                             | KNN                   | 50.9901               | 36.8812             | 14.1089              | 36.8812              | 12.1287              | 0.600806        | 14439.6         |\n",
    "| 1                                                                             | LR                    | 52.7228               | 5.94059             | 46.7822              | 4.20792              | 43.0693              | 0.200837        | 1124.65         |\n",
    "| 2                                                                             | -                     | None                  | None                | None                 | None                 | None                 | None            | 22317.3         |\n",
    "|   __Incl. only price - No Scaler__                                            |                       |                       |                     |                      |                      |                      |                 |                 |\n",
    "|                                                                               | Technique             | % Predicted Correctly | % of True Positives | % of True Negatives  | % of False Positives | % of False Negatives | F1 Score        | Final Net Worth |\n",
    "| 0                                                                             | KNN                   | 52.2277               | 39.604              | 12.6238              | 38.3663              | 9.40594              | 0.623782        | 18298.6         |\n",
    "| 1                                                                             | LR                    | 51.4851               | 2.47525             | 49.0099              | 1.9802               | 46.5347              | 0.0925926       | 1437.89         |\n",
    "| 2                                                                             | -                     | None                  | None                | None                 | None                 | None                 | None            | 22317.3         |\n",
    "|   __Remove both Price and Timestamp - Use Scaler__                            |                       |                       |                     |                      |                      |                      |                 |                 |\n",
    "| Technique                                                                     | % Predicted Correctly | % of True Positives   | % of True Negatives | % of False Positives | % of False Negatives | F1 Score             | Final Net Worth |                 |\n",
    "| 0                                                                             | KNN                   | 47.5248               | 24.0099             | 23.5149              | 27.4752              | 25                   | 0.477833        | 4966.28         |\n",
    "| 1                                                                             | LR                    | 55.6931               | 22.7723             | 32.9208              | 18.0693              | 26.2376              | 0.506887        | 4827.51         |\n",
    "| 2                                                                             | -                     | None                  | None                | None                 | None                 | None                 | None            | 22317.3         |\n",
    "|   __Remove both Price and Timestamp - No Scaler__                             |                       |                       |                     |                      |                      |                      |                 |                 |\n",
    "|                                                                               | Technique             | % Predicted Correctly | % of True Positives | % of True Negatives  | % of False Positives | % of False Negatives | F1 Score        | Final Net Worth |\n",
    "| 0                                                                             | KNN                   | 47.7723               | 24.2574             | 23.5149              | 27.4752              | 24.7525              | 0.481572        | 5817.13         |\n",
    "| 1                                                                             | LR                    | 55.4455               | 17.8218             | 37.6238              | 13.3663              | 31.1881              | 0.444444        | 3115.27         |\n",
    "| 2                                                                             | -                     | None                  | None                | None                 | None                 | None                 | None            | 22317.3         |"
   ]
  },
  {
   "cell_type": "markdown",
   "metadata": {
    "collapsed": true
   },
   "source": [
    "As you can see, none of the predictive approaches were more effective than buying on the first day and selling on the last day of the training set, though that may be in part due to the nature of the dataset, where the values generally rose from beginning to end.\n",
    "\n",
    "That being said, some results were more effective than others. Including the UnixTimeStamp field yielded the worst result, presumably because it is time-series data that skews the predictive algorithms. Including price actually provided the best results for KNN, but some of the worst results for Logistic Regression.\n",
    "\n",
    "Additional analysis would include manually varying the number of neighbors in KNN and improving upon the buy/sell algorithm to more effectively increase earnings"
   ]
  }
 ],
 "metadata": {
  "kernelspec": {
   "display_name": "Python 2",
   "language": "python",
   "name": "python2"
  },
  "language_info": {
   "codemirror_mode": {
    "name": "ipython",
    "version": 2
   },
   "file_extension": ".py",
   "mimetype": "text/x-python",
   "name": "python",
   "nbconvert_exporter": "python",
   "pygments_lexer": "ipython2",
   "version": "2.7.14"
  }
 },
 "nbformat": 4,
 "nbformat_minor": 2
}
