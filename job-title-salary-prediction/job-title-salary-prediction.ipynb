{
 "cells": [
  {
   "cell_type": "code",
   "execution_count": 1,
   "metadata": {
    "collapsed": true
   },
   "outputs": [],
   "source": [
    "import pandas as pd\n",
    "import numpy as np\n",
    "import random\n",
    "import re\n",
    "\n",
    "from math import log\n",
    "\n",
    "import sklearn\n",
    "from sklearn.pipeline import Pipeline\n",
    "from sklearn.preprocessing import StandardScaler, Imputer\n",
    "from sklearn.neighbors import KNeighborsClassifier\n",
    "from sklearn.linear_model import LogisticRegression, LinearRegression\n",
    "from sklearn.neighbors import KNeighborsRegressor\n",
    "from sklearn.metrics import confusion_matrix\n",
    "from sklearn.metrics import mean_squared_error\n",
    "\n",
    "import matplotlib\n",
    "import matplotlib.pylab as plt\n",
    "%matplotlib inline"
   ]
  },
  {
   "cell_type": "markdown",
   "metadata": {},
   "source": [
    "Load thejobs dataset"
   ]
  },
  {
   "cell_type": "code",
   "execution_count": 2,
   "metadata": {
    "collapsed": true
   },
   "outputs": [],
   "source": [
    "df = pd.read_csv('jobs.csv')"
   ]
  },
  {
   "cell_type": "markdown",
   "metadata": {},
   "source": [
    "Shuffle Dataset and copy subset of dataset for IDF calculation"
   ]
  },
  {
   "cell_type": "code",
   "execution_count": 3,
   "metadata": {},
   "outputs": [],
   "source": [
    "df = df.sample(frac=1)\n",
    "df_train_tfidf = df[:1200].copy()"
   ]
  },
  {
   "cell_type": "markdown",
   "metadata": {},
   "source": [
    "Split job descriptions into words"
   ]
  },
  {
   "cell_type": "code",
   "execution_count": 4,
   "metadata": {},
   "outputs": [],
   "source": [
    "finder = re.compile('\\w\\w+')\n",
    "\n",
    "corpus = []\n",
    "\n",
    "for title in df_train_tfidf['Title']:\n",
    "    corpus.append(finder.findall(title.lower()))"
   ]
  },
  {
   "cell_type": "markdown",
   "metadata": {},
   "source": [
    "Define function to translate list of words to a dictionary"
   ]
  },
  {
   "cell_type": "code",
   "execution_count": 5,
   "metadata": {
    "collapsed": true
   },
   "outputs": [],
   "source": [
    "def list_2_dict(doc):\n",
    "    d = {}\n",
    "    words = set(doc)\n",
    "    for word in words:\n",
    "        d[word] = doc.count(word)\n",
    "    return d"
   ]
  },
  {
   "cell_type": "markdown",
   "metadata": {},
   "source": [
    "Translate job descriptions into dictionary of words"
   ]
  },
  {
   "cell_type": "code",
   "execution_count": 6,
   "metadata": {},
   "outputs": [],
   "source": [
    "corpus = [list_2_dict(doc) for doc in corpus]\n",
    "words = reduce(lambda a,b: a|b, [set(doc.keys()) for doc in corpus])"
   ]
  },
  {
   "cell_type": "markdown",
   "metadata": {},
   "source": [
    "Print the total number of distinct words in the training set vocabulary"
   ]
  },
  {
   "cell_type": "code",
   "execution_count": 7,
   "metadata": {},
   "outputs": [
    {
     "name": "stdout",
     "output_type": "stream",
     "text": [
      "Vocabulary set length: 1361\n"
     ]
    }
   ],
   "source": [
    "print('Vocabulary set length: ' + str(len(words)))"
   ]
  },
  {
   "cell_type": "markdown",
   "metadata": {},
   "source": [
    "Define function for computing IDF and returning N words with highest IDF"
   ]
  },
  {
   "cell_type": "code",
   "execution_count": 8,
   "metadata": {},
   "outputs": [],
   "source": [
    "def compute_idf(corpus, words, min_frequency=3, n=30):\n",
    "    idf = {}\n",
    "    for k, word in enumerate(words):\n",
    "        d = 0\n",
    "        for doc in corpus:\n",
    "            if word in doc:\n",
    "                d = d+1\n",
    "        if d>=min_frequency:\n",
    "            idf[word] = log(float(len(corpus))/(1+d))\n",
    "    v = [[idf[word], word] for word in idf]\n",
    "    v.sort()\n",
    "    \n",
    "    #Print Top & Bottom 10 Words\n",
    "    print(\"Top 10 Words:\")\n",
    "    print(pd.DataFrame(data=v[-10:], columns=['IDF','Word']))\n",
    "    print(\"Bottom 10 Words:\")\n",
    "    print(pd.DataFrame(data=v[:10], columns=['IDF','Word']))\n",
    "    \n",
    "    top_idf = idf.copy()\n",
    "    top_idf = {k : v for k,v in top_idf.iteritems() if v >= max(top_idf.values())}\n",
    "    \n",
    "    # If >= N words with max IDF, select random N subset\n",
    "    if len(top_idf) >= n:\n",
    "        top_idf_keys = random.sample(list(top_idf), n)\n",
    "        words = top_idf_keys\n",
    "    # Else select top N\n",
    "    else:\n",
    "        words = [word for word_idf, word in v[-n:]]\n",
    "    \n",
    "    return idf, words"
   ]
  },
  {
   "cell_type": "code",
   "execution_count": 9,
   "metadata": {},
   "outputs": [
    {
     "name": "stdout",
     "output_type": "stream",
     "text": [
      "Top 10 Words:\n",
      "        IDF            Word\n",
      "0  3.831980       paralegal\n",
      "1  3.871201       executive\n",
      "2  3.912023       assurance\n",
      "3  3.954583     maintenance\n",
      "4  3.954583      production\n",
      "5  3.954583            york\n",
      "6  3.999034       developer\n",
      "7  3.999034  superintendent\n",
      "8  4.045554         atlanta\n",
      "9  4.045554              sr\n",
      "Bottom 10 Words:\n",
      "        IDF        Word\n",
      "0  0.051293         job\n",
      "1  0.053049          in\n",
      "2  1.215146     manager\n",
      "3  2.148434      dallas\n",
      "4  2.286056    engineer\n",
      "5  2.525729       sales\n",
      "6  2.525729      senior\n",
      "7  2.601440     quality\n",
      "8  2.671236  accountant\n",
      "9  2.733368  restaurant\n"
     ]
    }
   ],
   "source": [
    "idf, words = compute_idf(corpus, words, 20, 50)"
   ]
  },
  {
   "cell_type": "markdown",
   "metadata": {},
   "source": [
    "Generate features for dataset - tf-idf for top 50 words"
   ]
  },
  {
   "cell_type": "code",
   "execution_count": 10,
   "metadata": {},
   "outputs": [],
   "source": [
    "corpus = []\n",
    "\n",
    "for title in df['Title']:\n",
    "    corpus.append(finder.findall(title.lower()))\n",
    "    \n",
    "corpus = [list_2_dict(doc) for doc in corpus]\n",
    "\n",
    "X = np.ndarray((len(corpus),len(words)))\n",
    "\n",
    "X_words =[]\n",
    "\n",
    "for i in range(len(corpus)):\n",
    "    doc = corpus[i]\n",
    "    for j in range(len(words)):\n",
    "        word = words[j]\n",
    "        idf_word = idf[word]\n",
    "        tf = doc.get(word, 0)        \n",
    "        feature = tf * idf_word\n",
    "        X[i,j] = feature\n",
    "        \n",
    "for j in range(len(words)): \n",
    "    X_words.append(words[j])\n",
    "    \n",
    "X  = pd.DataFrame(data=X, columns=X_words)  "
   ]
  },
  {
   "cell_type": "code",
   "execution_count": 11,
   "metadata": {},
   "outputs": [],
   "source": [
    "y = df['Salary'].copy()"
   ]
  },
  {
   "cell_type": "code",
   "execution_count": 12,
   "metadata": {},
   "outputs": [],
   "source": [
    "X_train, y_train = X[:1200], y[:1200]\n",
    "X_test, y_test = X[1200:], y[1200:]"
   ]
  },
  {
   "cell_type": "markdown",
   "metadata": {},
   "source": [
    "Create linear regression pipeline, fit and predict against dataset"
   ]
  },
  {
   "cell_type": "code",
   "execution_count": 13,
   "metadata": {},
   "outputs": [],
   "source": [
    "model = LinearRegression()\n",
    "model.fit(X_train, y_train)\n",
    "y_pred = model.predict(X_test)"
   ]
  },
  {
   "cell_type": "markdown",
   "metadata": {},
   "source": [
    "Calculate and print RMSE"
   ]
  },
  {
   "cell_type": "code",
   "execution_count": 14,
   "metadata": {},
   "outputs": [
    {
     "name": "stdout",
     "output_type": "stream",
     "text": [
      "17814.8755071\n"
     ]
    }
   ],
   "source": [
    "RMSE = (((y_test - y_pred)**2).sum()/len(y_test))**0.5\n",
    "print RMSE"
   ]
  },
  {
   "cell_type": "markdown",
   "metadata": {},
   "source": [
    "Create a dataframe of the words and their corresponding model coefficients. \n",
    "Sort by coefficient value in descending order.\n",
    "\n",
    "Words associated to the highest salaries have the largest positive coefficients while words associated to the lowest salaries have the largest negative coefficients"
   ]
  },
  {
   "cell_type": "code",
   "execution_count": 15,
   "metadata": {},
   "outputs": [
    {
     "data": {
      "text/html": [
       "<div>\n",
       "<style>\n",
       "    .dataframe thead tr:only-child th {\n",
       "        text-align: right;\n",
       "    }\n",
       "\n",
       "    .dataframe thead th {\n",
       "        text-align: left;\n",
       "    }\n",
       "\n",
       "    .dataframe tbody tr th {\n",
       "        vertical-align: top;\n",
       "    }\n",
       "</style>\n",
       "<table border=\"1\" class=\"dataframe\">\n",
       "  <thead>\n",
       "    <tr style=\"text-align: right;\">\n",
       "      <th></th>\n",
       "      <th>Word</th>\n",
       "      <th>Coefficient</th>\n",
       "    </tr>\n",
       "  </thead>\n",
       "  <tbody>\n",
       "    <tr>\n",
       "      <th>33</th>\n",
       "      <td>vegas</td>\n",
       "      <td>2.684912e+16</td>\n",
       "    </tr>\n",
       "    <tr>\n",
       "      <th>7</th>\n",
       "      <td>accountant</td>\n",
       "      <td>5.041252e+03</td>\n",
       "    </tr>\n",
       "    <tr>\n",
       "      <th>38</th>\n",
       "      <td>automotive</td>\n",
       "      <td>2.831048e+03</td>\n",
       "    </tr>\n",
       "    <tr>\n",
       "      <th>47</th>\n",
       "      <td>superintendent</td>\n",
       "      <td>2.714624e+03</td>\n",
       "    </tr>\n",
       "    <tr>\n",
       "      <th>24</th>\n",
       "      <td>new</td>\n",
       "      <td>2.603108e+03</td>\n",
       "    </tr>\n",
       "    <tr>\n",
       "      <th>11</th>\n",
       "      <td>analyst</td>\n",
       "      <td>2.564242e+03</td>\n",
       "    </tr>\n",
       "    <tr>\n",
       "      <th>6</th>\n",
       "      <td>quality</td>\n",
       "      <td>2.507591e+03</td>\n",
       "    </tr>\n",
       "    <tr>\n",
       "      <th>46</th>\n",
       "      <td>developer</td>\n",
       "      <td>1.900633e+03</td>\n",
       "    </tr>\n",
       "    <tr>\n",
       "      <th>44</th>\n",
       "      <td>production</td>\n",
       "      <td>1.839495e+03</td>\n",
       "    </tr>\n",
       "    <tr>\n",
       "      <th>41</th>\n",
       "      <td>executive</td>\n",
       "      <td>1.767626e+03</td>\n",
       "    </tr>\n",
       "    <tr>\n",
       "      <th>29</th>\n",
       "      <td>city</td>\n",
       "      <td>1.319726e+03</td>\n",
       "    </tr>\n",
       "    <tr>\n",
       "      <th>3</th>\n",
       "      <td>engineer</td>\n",
       "      <td>1.061677e+03</td>\n",
       "    </tr>\n",
       "    <tr>\n",
       "      <th>1</th>\n",
       "      <td>manager</td>\n",
       "      <td>9.265110e+02</td>\n",
       "    </tr>\n",
       "    <tr>\n",
       "      <th>26</th>\n",
       "      <td>manufacturing</td>\n",
       "      <td>7.073446e+02</td>\n",
       "    </tr>\n",
       "    <tr>\n",
       "      <th>27</th>\n",
       "      <td>chicago</td>\n",
       "      <td>6.720814e+02</td>\n",
       "    </tr>\n",
       "    <tr>\n",
       "      <th>43</th>\n",
       "      <td>maintenance</td>\n",
       "      <td>6.479214e+02</td>\n",
       "    </tr>\n",
       "    <tr>\n",
       "      <th>17</th>\n",
       "      <td>general</td>\n",
       "      <td>6.202298e+02</td>\n",
       "    </tr>\n",
       "    <tr>\n",
       "      <th>14</th>\n",
       "      <td>cincinnati</td>\n",
       "      <td>5.808558e+02</td>\n",
       "    </tr>\n",
       "    <tr>\n",
       "      <th>15</th>\n",
       "      <td>supervisor</td>\n",
       "      <td>4.752465e+02</td>\n",
       "    </tr>\n",
       "    <tr>\n",
       "      <th>10</th>\n",
       "      <td>project</td>\n",
       "      <td>4.472169e+02</td>\n",
       "    </tr>\n",
       "    <tr>\n",
       "      <th>13</th>\n",
       "      <td>representative</td>\n",
       "      <td>4.302686e+02</td>\n",
       "    </tr>\n",
       "    <tr>\n",
       "      <th>5</th>\n",
       "      <td>senior</td>\n",
       "      <td>3.359235e+02</td>\n",
       "    </tr>\n",
       "    <tr>\n",
       "      <th>35</th>\n",
       "      <td>legal</td>\n",
       "      <td>2.032845e+02</td>\n",
       "    </tr>\n",
       "    <tr>\n",
       "      <th>2</th>\n",
       "      <td>dallas</td>\n",
       "      <td>-2.591987e+02</td>\n",
       "    </tr>\n",
       "    <tr>\n",
       "      <th>40</th>\n",
       "      <td>paralegal</td>\n",
       "      <td>-3.357575e+02</td>\n",
       "    </tr>\n",
       "    <tr>\n",
       "      <th>18</th>\n",
       "      <td>technician</td>\n",
       "      <td>-4.080224e+02</td>\n",
       "    </tr>\n",
       "    <tr>\n",
       "      <th>20</th>\n",
       "      <td>boston</td>\n",
       "      <td>-4.261840e+02</td>\n",
       "    </tr>\n",
       "    <tr>\n",
       "      <th>12</th>\n",
       "      <td>columbus</td>\n",
       "      <td>-5.238365e+02</td>\n",
       "    </tr>\n",
       "    <tr>\n",
       "      <th>22</th>\n",
       "      <td>accounting</td>\n",
       "      <td>-6.379871e+02</td>\n",
       "    </tr>\n",
       "    <tr>\n",
       "      <th>36</th>\n",
       "      <td>san</td>\n",
       "      <td>-6.828927e+02</td>\n",
       "    </tr>\n",
       "    <tr>\n",
       "      <th>39</th>\n",
       "      <td>service</td>\n",
       "      <td>-6.912797e+02</td>\n",
       "    </tr>\n",
       "    <tr>\n",
       "      <th>32</th>\n",
       "      <td>specialist</td>\n",
       "      <td>-8.173965e+02</td>\n",
       "    </tr>\n",
       "    <tr>\n",
       "      <th>28</th>\n",
       "      <td>and</td>\n",
       "      <td>-8.194095e+02</td>\n",
       "    </tr>\n",
       "    <tr>\n",
       "      <th>48</th>\n",
       "      <td>atlanta</td>\n",
       "      <td>-8.686089e+02</td>\n",
       "    </tr>\n",
       "    <tr>\n",
       "      <th>42</th>\n",
       "      <td>assurance</td>\n",
       "      <td>-8.916052e+02</td>\n",
       "    </tr>\n",
       "    <tr>\n",
       "      <th>49</th>\n",
       "      <td>sr</td>\n",
       "      <td>-1.040416e+03</td>\n",
       "    </tr>\n",
       "    <tr>\n",
       "      <th>34</th>\n",
       "      <td>construction</td>\n",
       "      <td>-1.191154e+03</td>\n",
       "    </tr>\n",
       "    <tr>\n",
       "      <th>25</th>\n",
       "      <td>houston</td>\n",
       "      <td>-1.203209e+03</td>\n",
       "    </tr>\n",
       "    <tr>\n",
       "      <th>31</th>\n",
       "      <td>marketing</td>\n",
       "      <td>-1.445164e+03</td>\n",
       "    </tr>\n",
       "    <tr>\n",
       "      <th>4</th>\n",
       "      <td>sales</td>\n",
       "      <td>-1.581833e+03</td>\n",
       "    </tr>\n",
       "    <tr>\n",
       "      <th>21</th>\n",
       "      <td>of</td>\n",
       "      <td>-1.756061e+03</td>\n",
       "    </tr>\n",
       "    <tr>\n",
       "      <th>37</th>\n",
       "      <td>account</td>\n",
       "      <td>-1.864877e+03</td>\n",
       "    </tr>\n",
       "    <tr>\n",
       "      <th>8</th>\n",
       "      <td>restaurant</td>\n",
       "      <td>-1.931237e+03</td>\n",
       "    </tr>\n",
       "    <tr>\n",
       "      <th>19</th>\n",
       "      <td>director</td>\n",
       "      <td>-2.170570e+03</td>\n",
       "    </tr>\n",
       "    <tr>\n",
       "      <th>45</th>\n",
       "      <td>york</td>\n",
       "      <td>-2.340119e+03</td>\n",
       "    </tr>\n",
       "    <tr>\n",
       "      <th>16</th>\n",
       "      <td>staff</td>\n",
       "      <td>-2.736605e+03</td>\n",
       "    </tr>\n",
       "    <tr>\n",
       "      <th>9</th>\n",
       "      <td>assistant</td>\n",
       "      <td>-2.835683e+03</td>\n",
       "    </tr>\n",
       "    <tr>\n",
       "      <th>23</th>\n",
       "      <td>advertising</td>\n",
       "      <td>-6.605867e+03</td>\n",
       "    </tr>\n",
       "    <tr>\n",
       "      <th>0</th>\n",
       "      <td>in</td>\n",
       "      <td>-2.186118e+04</td>\n",
       "    </tr>\n",
       "    <tr>\n",
       "      <th>30</th>\n",
       "      <td>las</td>\n",
       "      <td>-2.684912e+16</td>\n",
       "    </tr>\n",
       "  </tbody>\n",
       "</table>\n",
       "</div>"
      ],
      "text/plain": [
       "              Word   Coefficient\n",
       "33           vegas  2.684912e+16\n",
       "7       accountant  5.041252e+03\n",
       "38      automotive  2.831048e+03\n",
       "47  superintendent  2.714624e+03\n",
       "24             new  2.603108e+03\n",
       "11         analyst  2.564242e+03\n",
       "6          quality  2.507591e+03\n",
       "46       developer  1.900633e+03\n",
       "44      production  1.839495e+03\n",
       "41       executive  1.767626e+03\n",
       "29            city  1.319726e+03\n",
       "3         engineer  1.061677e+03\n",
       "1          manager  9.265110e+02\n",
       "26   manufacturing  7.073446e+02\n",
       "27         chicago  6.720814e+02\n",
       "43     maintenance  6.479214e+02\n",
       "17         general  6.202298e+02\n",
       "14      cincinnati  5.808558e+02\n",
       "15      supervisor  4.752465e+02\n",
       "10         project  4.472169e+02\n",
       "13  representative  4.302686e+02\n",
       "5           senior  3.359235e+02\n",
       "35           legal  2.032845e+02\n",
       "2           dallas -2.591987e+02\n",
       "40       paralegal -3.357575e+02\n",
       "18      technician -4.080224e+02\n",
       "20          boston -4.261840e+02\n",
       "12        columbus -5.238365e+02\n",
       "22      accounting -6.379871e+02\n",
       "36             san -6.828927e+02\n",
       "39         service -6.912797e+02\n",
       "32      specialist -8.173965e+02\n",
       "28             and -8.194095e+02\n",
       "48         atlanta -8.686089e+02\n",
       "42       assurance -8.916052e+02\n",
       "49              sr -1.040416e+03\n",
       "34    construction -1.191154e+03\n",
       "25         houston -1.203209e+03\n",
       "31       marketing -1.445164e+03\n",
       "4            sales -1.581833e+03\n",
       "21              of -1.756061e+03\n",
       "37         account -1.864877e+03\n",
       "8       restaurant -1.931237e+03\n",
       "19        director -2.170570e+03\n",
       "45            york -2.340119e+03\n",
       "16           staff -2.736605e+03\n",
       "9        assistant -2.835683e+03\n",
       "23     advertising -6.605867e+03\n",
       "0               in -2.186118e+04\n",
       "30             las -2.684912e+16"
      ]
     },
     "execution_count": 15,
     "metadata": {},
     "output_type": "execute_result"
    }
   ],
   "source": [
    "words_series = pd.Series(X_words, name='Word')\n",
    "coef_series = pd.Series(model.coef_.tolist(), name='Coefficient')\n",
    "model_coefficients  = pd.DataFrame(pd.concat([words_series, coef_series], axis=1))\n",
    "model_coefficients.sort_values('Coefficient', ascending=False)"
   ]
  },
  {
   "cell_type": "code",
   "execution_count": null,
   "metadata": {
    "collapsed": true
   },
   "outputs": [],
   "source": []
  }
 ],
 "metadata": {
  "kernelspec": {
   "display_name": "Python 2",
   "language": "python",
   "name": "python2"
  },
  "language_info": {
   "codemirror_mode": {
    "name": "ipython",
    "version": 2
   },
   "file_extension": ".py",
   "mimetype": "text/x-python",
   "name": "python",
   "nbconvert_exporter": "python",
   "pygments_lexer": "ipython2",
   "version": "2.7.14"
  }
 },
 "nbformat": 4,
 "nbformat_minor": 2
}
